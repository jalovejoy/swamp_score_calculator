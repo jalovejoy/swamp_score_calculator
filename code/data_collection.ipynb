{
 "cells": [
  {
   "cell_type": "markdown",
   "metadata": {},
   "source": [
    "# Importing Libraries"
   ]
  },
  {
   "cell_type": "code",
   "execution_count": 2,
   "metadata": {},
   "outputs": [],
   "source": [
    "import numpy as np\n",
    "import pandas as pd\n",
    "import seaborn as sns\n",
    "from functools import reduce\n",
    "\n",
    "import re\n",
    "\n",
    "import missingno as msno  "
   ]
  },
  {
   "cell_type": "markdown",
   "metadata": {},
   "source": [
    "# Importing & Organizing Data"
   ]
  },
  {
   "cell_type": "code",
   "execution_count": 8,
   "metadata": {},
   "outputs": [],
   "source": [
    "## Takes a dataframe with a \"FIPS County\" code and translates it into an object\n",
    "## This is done because the csv saves codes such as 01001 as 1001\n",
    "def fips_to_obj(df):\n",
    "    df['FIPS'] = [int(i) for i in df['FIPS'].fillna(0)]\n",
    "    df['FIPS'] = df['FIPS'].astype('object')\n",
    "    fips_list = []\n",
    "    for i in df['FIPS']:\n",
    "        if len(str(i)) < 5:\n",
    "            fips_list.append('0' + str(i))\n",
    "        else:\n",
    "            fips_list.append(str(i))\n",
    "    df['FIPS'] = fips_list\n",
    "    return df"
   ]
  },
  {
   "cell_type": "code",
   "execution_count": 3,
   "metadata": {},
   "outputs": [],
   "source": [
    "# Importing Excel file data from USDA Food Atlas \n",
    "book_usda = pd.read_excel('../data/imports/usda_food_atlas//USDA-Food-Atlas.xls', sheet_name=None)"
   ]
  },
  {
   "cell_type": "markdown",
   "metadata": {},
   "source": [
    "## Death from Strokes Rate\n",
    "Taken from Center for Disease Control and Prevention (2014 - 2016)\n",
    "\n",
    "Source: https://www.cdc.gov/dhdsp/maps/national_maps/stroke_all.htm"
   ]
  },
  {
   "cell_type": "code",
   "execution_count": 4,
   "metadata": {},
   "outputs": [],
   "source": [
    "## Importing target data\n",
    "strokes = pd.read_csv('../data/imports/stroke_deaths/stroke_all.csv')\n",
    "\n",
    "## Renaming for readability\n",
    "strokes.rename(columns={\n",
    "    'FIPS code' : 'FIPS',\n",
    "    'Adults 35+' : 'strokeDeath_rate'\n",
    "}, inplace=True)\n",
    "\n",
    "## Correcting FIPS County errors\n",
    "strokes = fips_to_obj(strokes)\n",
    "\n",
    "## Storing only the data needed\n",
    "df_strokes = strokes[['FIPS','strokeDeath_rate']]"
   ]
  },
  {
   "cell_type": "markdown",
   "metadata": {},
   "source": [
    "## Average Life Expectancy\n",
    "Taken from Center for Disease Control and Prevention (updated 2010)\n",
    "\n",
    "Source: https://healthdata.gov/dataset/community-health-status-indicators-chsi-combat-obesity-heart-disease-and-cancer"
   ]
  },
  {
   "cell_type": "code",
   "execution_count": 7,
   "metadata": {},
   "outputs": [],
   "source": [
    "## Importing target data\n",
    "avgLifeExpec = pd.read_excel('../data/imports/life_expectancy/CHSI DataSet.xlsx',\n",
    "                                  sheet_name='SUMMARYMEASURESOFHEALTH')\n",
    "\n",
    "## Renaming for future readability \n",
    "avgLifeExpec.rename(columns={\n",
    "    'ALE' : 'avgLifeExpec'\n",
    "}, inplace=True)\n",
    "\n",
    "## Custom FIPS County correction because CDC data was stored with separate County and State columns\n",
    "county_FIPS = []\n",
    "for code in avgLifeExpec['County_FIPS_Code']:\n",
    "    if len(str(code)) < 2:\n",
    "        county_FIPS.append('00' + str(code))\n",
    "    elif len(str(code)) < 3:\n",
    "        county_FIPS.append('0' + str(code))\n",
    "    else:\n",
    "        county_FIPS.append(str(code))\n",
    "\n",
    "avgLifeExpec['FIPS'] = [str(state) + county for county, state in zip(county_FIPS, \\\n",
    "                                                     avgLifeExpec['State_FIPS_Code'])]\n",
    "avgLifeExpec = fips_to_obj(avgLifeExpec)\n",
    "\n",
    "## Storing only the data needed\n",
    "df_avgLifeExpec = avgLifeExpec[['FIPS', 'avgLifeExpec']]"
   ]
  },
  {
   "cell_type": "markdown",
   "metadata": {},
   "source": [
    "## Land Area\n",
    "(2010 US Census)"
   ]
  },
  {
   "cell_type": "code",
   "execution_count": 11,
   "metadata": {},
   "outputs": [],
   "source": [
    "## Importing feature data\n",
    "land_area = pd.read_csv('../data/imports/land_area/'\\\n",
    "                        'DEC_10_SF1_GCTPH1.US05PR/DEC_10_SF1_GCTPH1.US05PR_with_ann.csv')\n",
    "\n",
    "## Renaming for future readability \n",
    "land_area.rename(columns={\n",
    "    'Target Geo Id2' : 'FIPS',\n",
    "    'Area in square miles - Total area' : 'totalArea',\n",
    "    'Area in square miles - Land area' : 'landArea',\n",
    "    'Housing units' : 'housingUnits'\n",
    "}, inplace=True)\n",
    "\n",
    "## Some cells had multiple values in it. The following code cleans up the ones in parentheses\n",
    "## NOTE: Although this data was not used, it may be better to remove the values outside the parentheses instead\n",
    "houseUnits = []\n",
    "for i in land_area['housingUnits']:\n",
    "    houseUnits.append(re.sub('\\([^\\)]+\\)','',i)) ## Removes housing unit value inside parentheses\n",
    "land_area['housingUnits'] = houseUnits\n",
    "land_area['housingUnits'] = land_area['housingUnits'].astype('int')\n",
    "\n",
    "## Correcting FIPS County errors\n",
    "land_area = fips_to_obj(land_area)\n",
    "\n",
    "## Removing state-wide data so that only FIPS County data remains\n",
    "mask = [len(i) < 5 for i in land_area['FIPS']]\n",
    "land_area.drop(index=land_area[mask].index, inplace=True)\n",
    "\n",
    "## Storing only the data needed\n",
    "df_land_area = land_area[['FIPS','totalArea','landArea','housingUnits']]"
   ]
  },
  {
   "cell_type": "markdown",
   "metadata": {},
   "source": [
    "## Transportation Means \n",
    "(American Community Survey: 2017 5 year estimates)"
   ]
  },
  {
   "cell_type": "code",
   "execution_count": 17,
   "metadata": {},
   "outputs": [],
   "source": [
    "## Importing  data\n",
    "transportation = pd.read_csv('../data/imports/transportation/ACS_17_5YR_B08534_with_ann.csv')\n",
    "\n",
    "## Renaming for readability\n",
    "transportation.rename(columns={\n",
    "    'Id2' : 'FIPS',\n",
    "    'Estimate; Total:' : 'totalPop',\n",
    "    'Estimate; Total: - Car, truck, or van:' : 'carTruckVan',\n",
    "    'Estimate; Total: - Public transportation (excluding taxicab):' : 'pubTran',\n",
    "    'Estimate; Total: - Public transportation (excluding taxicab): - Bus or trolley bus:' : 'pubTran_bus',\n",
    "    'Estimate; Total: - Public transportation (excluding taxicab): - Streetcar or trolley car (carro '\\\n",
    "    'publico in Puerto Rico), subway or elevated:' : 'pubTran_streetcar',\n",
    "    'Estimate; Total: - Public transportation (excluding taxicab): - Railroad or ferryboat:'\\\n",
    "    : 'pubTran_trainFerry',\n",
    "    'Estimate; Total: - Walked:' : 'walk',\n",
    "    'Estimate; Total: - Taxicab, motorcycle, bicycle, or other means:' : 'taxiMotoBikeOther',\n",
    "}, inplace=True)\n",
    "\n",
    "transportation['pct_carTruckVan'] = transportation['carTruckVan'] / transportation['totalPop']\n",
    "transportation['pct_pubTran'] = transportation['pubTran'] / transportation['totalPop']\n",
    "transportation['pct_pubTran_bus'] = transportation['pubTran_bus'] / transportation['totalPop']\n",
    "transportation['pct_pubTran_streetcar'] = transportation['pubTran_streetcar'] / transportation['totalPop']\n",
    "transportation['pct_pubTran_trainFerry'] = transportation['pubTran_trainFerry'] / transportation['totalPop']\n",
    "transportation['pct_walked'] = transportation['walk'] / transportation['totalPop']\n",
    "transportation['pct_taxiMotoBikeOther'] = transportation['taxiMotoBikeOther'] / transportation['totalPop']\n",
    "\n",
    "## Correcting FIPS County errors\n",
    "transportation = fips_to_obj(transportation)\n",
    "\n",
    "## Storing only the data needed\n",
    "df_transportation = transportation[['FIPS','pct_carTruckVan','pct_pubTran','pct_pubTran_bus',\\\n",
    "    'pct_pubTran_streetcar','pct_pubTran_trainFerry','pct_walked','pct_taxiMotoBikeOther']]"
   ]
  },
  {
   "cell_type": "markdown",
   "metadata": {},
   "source": [
    "### Gini Coefficient (Income Inequality)\n",
    "(American Community Survey: 2017 5 year estimates)"
   ]
  },
  {
   "cell_type": "code",
   "execution_count": 19,
   "metadata": {},
   "outputs": [],
   "source": [
    "## Importing feature data\n",
    "gini = pd.read_csv('../data/imports/gini/ACS_17_5YR_B19083_with_ann.csv')\n",
    "\n",
    "## Renaming for readability\n",
    "gini = gini.rename(columns={\n",
    "    'Id2' : 'FIPS',\n",
    "    'Estimate; Gini Index' : 'Gini_Estimate'})\n",
    "\n",
    "## Correcting FIPS County Error\n",
    "gini = fips_to_obj(gini)\n",
    "\n",
    "## Storing only the data needed\n",
    "df_gini = gini[['FIPS','Gini_Estimate']]"
   ]
  },
  {
   "cell_type": "markdown",
   "metadata": {},
   "source": [
    "## Natural Environment\n",
    "(USDA Economic Research Service)\n",
    "\n",
    "Topography scale is from U.S. Department of Interior, U.S. Geological Survey, Washington, DC., 1970. Last updated in 1999\n",
    "\n",
    "Source: https://www.ers.usda.gov/data-products/natural-amenities-scale/"
   ]
  },
  {
   "cell_type": "code",
   "execution_count": 3,
   "metadata": {},
   "outputs": [],
   "source": [
    "## Importing feature data\n",
    "natenv = pd.read_excel('../data/imports/natural_amenities/natamenf_1_.xlsx', sheet_name='NATAMENF')\n",
    "\n",
    "## Renaming for readability\n",
    "natenv.rename(columns={\n",
    "    'Natural Amenity Rank' : 'natAmenityIndex',\n",
    "    'FIPS Code' : 'FIPS'\n",
    "}, inplace=True)\n",
    "\n",
    "## Correcting for FIPS County Error\n",
    "natenv = fips_to_obj(natenv)\n",
    "\n",
    "## Storing only the data needed\n",
    "df_natenv = natenv[['FIPS','natAmenityIndex']]"
   ]
  },
  {
   "cell_type": "markdown",
   "metadata": {},
   "source": [
    "## Restaurants\n",
    "(USDA Food Atlas)"
   ]
  },
  {
   "cell_type": "code",
   "execution_count": 25,
   "metadata": {},
   "outputs": [],
   "source": [
    "## Importing feature data\n",
    "restaurants = book_usda['RESTAURANTS']\n",
    "\n",
    "## Renaming for readability\n",
    "restaurants.rename(columns={\n",
    "    'FFR14' : 'fastFood_14',\n",
    "    'PC_FFRSALES12' : 'perCap_fastFood_sales_12',\n",
    "    'PC_FSRSALES12' : 'perCap_rest_sales_12'\n",
    "}, inplace=True)\n",
    "\n",
    "## Correcting for FIPS County Error\n",
    "restaurants = fips_to_obj(restaurants)\n",
    "\n",
    "## Storing only the data needed\n",
    "df_rest = restaurants[['FIPS','State','County','fastFood_14','perCap_fastFood_sales_12','perCap_rest_sales_12']]"
   ]
  },
  {
   "cell_type": "markdown",
   "metadata": {},
   "source": [
    "## Local Food Stores\n",
    "(USDA Food Atlas)"
   ]
  },
  {
   "cell_type": "code",
   "execution_count": 27,
   "metadata": {},
   "outputs": [],
   "source": [
    "## Importing feature data\n",
    "local = book_usda['LOCAL']\n",
    "\n",
    "## Renaming for readability\n",
    "local.rename(columns={\n",
    "    'FMRKT16' : 'farmersMarket_16'\n",
    "}, inplace=True)\n",
    "\n",
    "## Correcting for FIPS County Error\n",
    "local = fips_to_obj(local)\n",
    "\n",
    "## Storing only the data needed\n",
    "df_local = local[['FIPS','farmersMarket_16']]"
   ]
  },
  {
   "cell_type": "markdown",
   "metadata": {},
   "source": [
    "## Food Stores\n",
    "(USDA Food Atlas)"
   ]
  },
  {
   "cell_type": "code",
   "execution_count": 31,
   "metadata": {},
   "outputs": [],
   "source": [
    "## Importing feature data\n",
    "stores = book_usda['STORES']\n",
    "\n",
    "## Renaming for readability\n",
    "stores.rename(columns={\n",
    "    'GROC14' : 'grocStores_14',\n",
    "    'SUPERC14' : 'supercenters_14',\n",
    "    'CONVS14' : 'convenienceStores_14',\n",
    "    'SPECS14' : 'specialStore_14'\n",
    "}, inplace=True)\n",
    "\n",
    "## Correcting for FIPS County Error\n",
    "stores = fips_to_obj(stores)\n",
    "\n",
    "## Storing only the data needed\n",
    "df_stores = stores[['FIPS','grocStores_14','supercenters_14','convenienceStores_14','specialStore_14']]"
   ]
  },
  {
   "cell_type": "markdown",
   "metadata": {},
   "source": [
    "## Population Data\n",
    "(USDA Food Atlas)"
   ]
  },
  {
   "cell_type": "code",
   "execution_count": 33,
   "metadata": {
    "scrolled": false
   },
   "outputs": [],
   "source": [
    "## Importing feature data\n",
    "supplementaldata_county = book_usda['Supplemental Data - County']\n",
    "\n",
    "## Renaming for readability\n",
    "supplementaldata_county.rename(columns={\n",
    "    'FIPS ':'FIPS',\n",
    "    '2010 Census Population' : 'pop_census_10',\n",
    "    'Population Estimate, 2011' : 'pop_acs_11',\n",
    "    'Population Estimate, 2012' : 'pop_acs_12',\n",
    "    'Population Estimate, 2013' : 'pop_acs_13',\n",
    "    'Population Estimate, 2014' : 'pop_acs_14',\n",
    "    'Population Estimate, 2015' : 'pop_acs_15',\n",
    "    'Population Estimate, 2016' : 'pop_acs_16'\n",
    "}, inplace=True)\n",
    "\n",
    "## Correcting for FIPS County Error\n",
    "supplementaldata_county = fips_to_obj(supplementaldata_county)\n",
    "\n",
    "## Removing commas from dataset\n",
    "supplementaldata_county = supplementaldata_county[['FIPS','State','County','pop_census_10','pop_acs_11',\n",
    "    'pop_acs_12','pop_acs_13','pop_acs_14','pop_acs_15','pop_acs_16']]\\\n",
    "    .stack().apply(lambda x: x.replace(',','')).unstack()\n",
    "\n",
    "## Converting columns back into numerical integers\n",
    "supplementaldata_county[['pop_census_10','pop_acs_11','pop_acs_12','pop_acs_13','pop_acs_14',\n",
    "                'pop_acs_15','pop_acs_16']] = \\\n",
    "supplementaldata_county[['pop_census_10','pop_acs_11','pop_acs_12','pop_acs_13','pop_acs_14',\n",
    "                'pop_acs_15','pop_acs_16']].astype('int')\n",
    "\n",
    "## Storing only the data needed\n",
    "df_pop = supplementaldata_county[['FIPS','pop_census_10','pop_acs_11','pop_acs_12','pop_acs_13','pop_acs_14',\n",
    "                'pop_acs_15','pop_acs_16']]"
   ]
  },
  {
   "cell_type": "markdown",
   "metadata": {},
   "source": [
    "## Food Access\n",
    "(USDA Food Atlas)"
   ]
  },
  {
   "cell_type": "code",
   "execution_count": 39,
   "metadata": {},
   "outputs": [],
   "source": [
    "## Importing feature data\n",
    "access = book_usda['ACCESS']\n",
    "\n",
    "## Renaming for readability\n",
    "access.rename(columns={\n",
    "    'PCT_LACCESS_POP10' : 'pct_lowAccess_10',\n",
    "    'PCT_LACCESS_POP15' : 'pct_lowAccess_15',\n",
    "    'PCT_LACCESS_LOWI10' : 'pct_lowAccessInc_10',\n",
    "    'PCT_LACCESS_LOWI15' : 'pct_lowAccessInc_15',\n",
    "}, inplace=True)\n",
    "\n",
    "## Correcting for FIPS County Error\n",
    "access = fips_to_obj(access)\n",
    "\n",
    "## Storing only the data needed\n",
    "df_access = access[['FIPS','pct_lowAccess_10','pct_lowAccess_15','pct_lowAccessInc_10','pct_lowAccessInc_15']]"
   ]
  },
  {
   "cell_type": "markdown",
   "metadata": {},
   "source": [
    "## Socio-Demographic\n",
    "(USDA Food Atlas)\n",
    "\n",
    "NOTE:: THIS MAY NOT BE AT THE COUNTY LEVEL??"
   ]
  },
  {
   "cell_type": "code",
   "execution_count": 43,
   "metadata": {},
   "outputs": [],
   "source": [
    "## Importing feature data\n",
    "prices_taxes = book_usda['PRICES_TAXES']\n",
    "socioeconomic = book_usda['SOCIOECONOMIC']\n",
    "\n",
    "## Renaming for readability\n",
    "socioeconomic.rename(columns={\n",
    "    'MEDHHINC15' : 'medianHHIncome_15',\n",
    "    'POVRATE15' : 'povRate_15',\n",
    "    'METRO13' : 'isMetro_13',\n",
    "    'MILK_PRICE10' : 'milkPrice_10',\n",
    "    'SODA_PRICE10' : 'sodaPrice_10'\n",
    "}, inplace=True)\n",
    "\n",
    "## Renaming for readability\n",
    "prices_taxes.rename(columns={\n",
    "    'MILK_PRICE10' : 'milkPrice_10',\n",
    "    'SODA_PRICE10' : 'sodaPrice_10'\n",
    "}, inplace=True)\n",
    "\n",
    "## Creating milk / soda price ratio\n",
    "prices_taxes['milkSoda_priceRatio_10'] = prices_taxes['milkPrice_10'] / prices_taxes['sodaPrice_10']\n",
    "\n",
    "## Correcting for FIPS County Error\n",
    "socioeconomic = fips_to_obj(socioeconomic)\n",
    "\n",
    "## Storing only the data needed\n",
    "df_sociodemographic = socioeconomic[['FIPS','medianHHIncome_15','povRate_15','isMetro_13']]\n",
    "df_sociodemographic['milkSoda_priceRatio_10'] = prices_taxes['milkSoda_priceRatio_10']"
   ]
  },
  {
   "cell_type": "markdown",
   "metadata": {},
   "source": [
    "## Demographics\n",
    "(USDA Economic Research Service)"
   ]
  },
  {
   "cell_type": "code",
   "execution_count": 47,
   "metadata": {},
   "outputs": [],
   "source": [
    "## Importing feature data\n",
    "demographics = pd.read_csv('../data/imports/demographics/ACS_17_5YR_DP05/ACS_17_5YR_DP05_with_ann.csv')\n",
    "\n",
    "## Renaming for readability\n",
    "demographics.rename(columns={'Id2' : 'FIPS',\n",
    "'Estimate; SEX AND AGE - Total population' : 'population_total',\n",
    "'Percent; SEX AND AGE - Total population - Male' : 'pct_male_total',\n",
    "'Percent; SEX AND AGE - Total population - Female' : 'pct_female_total',\n",
    "'Percent; SEX AND AGE - Under 5 years' : 'pct_under5',\n",
    "'Percent; SEX AND AGE - 5 to 9 years' : 'pct_5to9',\n",
    "'Percent; SEX AND AGE - 10 to 14 years' : 'pct_10to14',\n",
    "'Percent; SEX AND AGE - 15 to 19 years' : 'pct_15to19',\n",
    "'Percent; SEX AND AGE - 20 to 24 years' : 'pct_20to24',\n",
    "'Percent; SEX AND AGE - 25 to 34 years' : 'pct_25to34',\n",
    "'Percent; SEX AND AGE - 35 to 44 years' : 'pct_35to44',\n",
    "'Percent; SEX AND AGE - 45 to 54 years' : 'pct_45to54',\n",
    "'Percent; SEX AND AGE - 55 to 59 years' : 'pct_55to59',\n",
    "'Percent; SEX AND AGE - 60 to 64 years' : 'pct_60to64',\n",
    "'Percent; SEX AND AGE - 65 to 74 years' : 'pct_65to74',\n",
    "'Percent; SEX AND AGE - 75 to 84 years' : 'pct_75to84',\n",
    "'Percent; SEX AND AGE - 85 years and over' : 'pct_over85',\n",
    "'Percent; RACE - One race - White' : 'pct_white',\n",
    "'Percent; RACE - One race - Black or African American' : 'pct_black',\n",
    "'Percent; RACE - One race - American Indian and Alaska Native' : 'pct_americanIndianORalaskaNative',\n",
    "'Percent; RACE - One race - Asian' : 'pct_asian',\n",
    "'Percent; RACE - One race - Native Hawaiian and Other Pacific Islander' : \\\n",
    "                             'pct_nativeHawaiinORotherPacificIslander',\n",
    "'Percent; RACE - One race - Some other race' : 'pct_otherRace',\n",
    "'Percent; HISPANIC OR LATINO AND RACE - Total population - Hispanic or Latino (of any race)' : \\\n",
    "                             'pct_hispanicORlatino'\n",
    "                            }, inplace=True)\n",
    "\n",
    "## Correcting for FIPS County Error\n",
    "demographics = fips_to_obj(demographics)\n",
    "\n",
    "## Storing only the data needed\n",
    "df_demographics = demographics[['FIPS','population_total','pct_male_total',\n",
    "'pct_female_total','pct_under5','pct_5to9','pct_10to14','pct_15to19',\n",
    "'pct_20to24', 'pct_25to34','pct_35to44','pct_45to54','pct_55to59',\n",
    "'pct_60to64', 'pct_65to74','pct_75to84','pct_over85','pct_white',\n",
    "'pct_black', 'pct_americanIndianORalaskaNative','pct_asian',\n",
    "'pct_nativeHawaiinORotherPacificIslander', 'pct_otherRace','pct_hispanicORlatino']]\n",
    "\n",
    "## Translating percents into fractions\n",
    "df_demographics.iloc[:,2:] = df_demographics.iloc[:,1:] / 100\n",
    "\n",
    "## Cerating new metric for elderly (over 65)\n",
    "df_demographics['pct_over65'] = df_demographics[['pct_65to74','pct_75to84','pct_over85']].sum(axis=1)"
   ]
  },
  {
   "cell_type": "markdown",
   "metadata": {},
   "source": [
    "## Education\n",
    "(American Community Survey: 2017 5 year estimates)"
   ]
  },
  {
   "cell_type": "code",
   "execution_count": 52,
   "metadata": {},
   "outputs": [],
   "source": [
    "## Importing feature data\n",
    "education = pd.read_csv('../data/imports/education/ACS_17_5YR_S1501_with_ann.csv', low_memory=False)\n",
    "\n",
    "## Renaming for readability\n",
    "education.rename(columns={\n",
    "'Id2' : 'FIPS',\n",
    "\n",
    "'Total; Estimate; Population 18 to 24 years' : 'pop_18to24',\n",
    "'Total; Estimate; Population 18 to 24 years - Less than high school graduate' : 'pop_lessHighSchool_18to24',\n",
    "'Total; Estimate; Population 18 to 24 years - High school graduate (includes equivalency)' : \\\n",
    "    'pop_highSchool_18to24',\n",
    "\"Total; Estimate; Population 18 to 24 years - Some college or associate's degree\" : \\\n",
    "    'pop_someCollegeORassocDegree_18to24',\n",
    "\"Total; Estimate; Population 18 to 24 years - Bachelor's degree or higher\" : 'pop_bachelorsHigher_18to24',\n",
    "'Total; Estimate; Population 25 years and over' : 'pop_25over',\n",
    "'Total; Estimate; Population 25 years and over - Less than 9th grade' : 'pop_less9th_25over',\n",
    "'Total; Estimate; Population 25 years and over - 9th to 12th grade, no diploma' : 'pop_9to12th_25over',\n",
    "'Total; Estimate; Population 25 years and over - High school graduate (includes equivalency)' : \\\n",
    "    'pop_highSchool_over25',\n",
    "'Total; Estimate; Population 25 years and over - Some college, no degree' : 'pop_someCollege_over25',\n",
    "\"Total; Estimate; Population 25 years and over - Associate's degree\" : 'pop_assocDegree_over25',\n",
    "\"Total; Estimate; Population 25 years and over - Bachelor's degree\" : 'pop_bachelorsDegree_over25',\n",
    "\"Total; Estimate; Population 25 years and over - Graduate or professional degree\" : 'pop_gradORprofDegree_over25',\n",
    "    \n",
    "'Percent; Estimate; Percent high school graduate or higher' : 'pct_highSchoolHigher',\n",
    "\"Percent; Estimate; Percent bachelor's degree or higher\" : 'pct_bachelorsHigher',\n",
    "\n",
    "}, inplace=True)\n",
    "\n",
    "## Correcting for FIPS County Error\n",
    "education = fips_to_obj(education)\n",
    "\n",
    "## Storing only the data needed\n",
    "df_education = education[['FIPS','pct_highSchoolHigher','pct_bachelorsHigher']]"
   ]
  },
  {
   "cell_type": "markdown",
   "metadata": {},
   "source": [
    "## Health Metrics\n",
    "(USDA Food Atlas)"
   ]
  },
  {
   "cell_type": "code",
   "execution_count": 55,
   "metadata": {},
   "outputs": [],
   "source": [
    "## Importing feature data\n",
    "health = book_usda['HEALTH']\n",
    "\n",
    "## Renaming for readability\n",
    "health.rename(columns={\n",
    "    'RECFAC09' : 'recreationFacilities_09',\n",
    "    'RECFAC14' : 'recreationFacilities_14',\n",
    "    'PCT_OBESE_ADULTS13' : 'obesityRate_13'\n",
    "}, inplace=True)\n",
    "\n",
    "## Correcting for FIPS County Error\n",
    "health = fips_to_obj(health)\n",
    "\n",
    "## Storing only the data needed\n",
    "df_health = health[['FIPS','obesityRate_13','recreationFacilities_14']]"
   ]
  },
  {
   "cell_type": "markdown",
   "metadata": {},
   "source": [
    "## Diabetes Rates\n",
    "(Center for Disease Control)\n",
    "\n",
    "Source: https://www.cdc.gov/diabetes/atlas/countydata/DMPREV/DM_PREV_ALL_STATES.xlsx"
   ]
  },
  {
   "cell_type": "code",
   "execution_count": 59,
   "metadata": {},
   "outputs": [],
   "source": [
    "## Importing feature data\n",
    "diabetes = pd.ExcelFile('../data/imports/cdc_diabetes/DM_PREV_ALL_STATES.xlsx')\n",
    "diabetes = diabetes.parse(header=None)\n",
    "\n",
    "## The first row holds data on the year while the second row holds columns labels\n",
    "## The below code combines year with labels so each column is label_year\n",
    "cols_replace = {}\n",
    "set_header= ''\n",
    "for i, header in enumerate(list(diabetes.iloc[0,0:])):\n",
    "    if str(header) != 'nan':\n",
    "        set_header = header\n",
    "    if set_header == 'Diagnosed Diabetes Prevalence':\n",
    "        cols_replace[i] = str(diabetes.iloc[1,i]).replace(' ','_')\n",
    "    else:\n",
    "        cols_replace[i] = str(diabetes.iloc[1,i]).replace(' ','_') + \"_\" + str(set_header)\n",
    "\n",
    "diabetes.rename(columns=cols_replace, inplace=True) # Actually replacing column names\n",
    "diabetes.drop(index=[0,1], inplace=True) # Dropping header\n",
    "\n",
    "## Removing \" County\" so it's consistent with other data\n",
    "county_list = []\n",
    "for i in diabetes['County']:\n",
    "    county_list.append(i.replace(' County',''))\n",
    "diabetes['County'] = county_list\n",
    "\n",
    "## Renaming for readability\n",
    "diabetes.rename(columns={\n",
    "    'FIPS_Codes' : 'FIPS',\n",
    "    'number_2004' : 'diabetes_04',\n",
    "    'number_2005' : 'diabetes_05',\n",
    "    'number_2006' : 'diabetes_06',\n",
    "    'number_2007' : 'diabetes_07',\n",
    "    'number_2008' : 'diabetes_08',\n",
    "    'number_2009' : 'diabetes_09',\n",
    "    'number_2010' : 'diabetes_10',\n",
    "    'number_2011' : 'diabetes_11',\n",
    "    'number_2012' : 'diabetes_12',\n",
    "    'number_2013' : 'diabetes_13',\n",
    "    'percent_2013' : 'pct_diabetes_13'\n",
    "}, inplace=True)\n",
    "\n",
    "## Drops 3 counties in Alaska and 1 in Virginia -- this is done at this stage so errors are avoided later\n",
    "diabetes.drop(diabetes[diabetes['diabetes_13'] == 'No Data'].index, inplace=True)\n",
    "diabetes.reset_index(inplace=True, drop=True)\n",
    "\n",
    "## Setting diabetes as an integer\n",
    "diabetes[['diabetes_13']] = diabetes[['diabetes_13']].astype('int')\n",
    "\n",
    "## Storing only the data needed\n",
    "diabetes_df = diabetes[['FIPS','diabetes_13','pct_diabetes_13']]"
   ]
  },
  {
   "cell_type": "markdown",
   "metadata": {},
   "source": [
    "## Merging Data"
   ]
  },
  {
   "cell_type": "code",
   "execution_count": 67,
   "metadata": {},
   "outputs": [],
   "source": [
    "## Establishing which dataframe to merge\n",
    "data_frames = [df_rest, diabetes_df, df_stores, df_pop, df_access, df_health, df_sociodemographic, df_natenv,\n",
    "              df_demographics, df_gini, df_transportation, df_education, df_land_area, df_local, df_strokes,\n",
    "              df_avgLifeExpec]\n",
    "\n",
    "## Merging dataframes\n",
    "df = reduce(lambda  left, right: pd.merge(left, right, on=['FIPS'],\n",
    "                                            how='outer'), data_frames)"
   ]
  },
  {
   "cell_type": "markdown",
   "metadata": {},
   "source": [
    "## Define Food Swamps"
   ]
  },
  {
   "cell_type": "code",
   "execution_count": 69,
   "metadata": {},
   "outputs": [],
   "source": [
    "#### Preferred option for handling \"infinite\" value Food Swamps\n",
    "## Provides robust swamp score (includes farmers market and special foods stores) if the denominator does not equal 0\n",
    "## If the denominator = 0, it is removed or treated as if it is a 1\n",
    "## This was tested multiple ways and it was ultimately determined that this was the most sound method\n",
    "for i, row in df.iterrows():\n",
    "    if (row['grocStores_14'] + row['farmersMarket_16'] + row['specialStore_14']) != 0:\n",
    "        df.loc[i,'foodSwamp_14'] = ((df.loc[i,'fastFood_14'] + df.loc[i,'convenienceStores_14'])\\\n",
    "                / (df.loc[i,'grocStores_14'] + df.loc[i,'farmersMarket_16'] + df.loc[i, 'specialStore_14']))\n",
    "    else:\n",
    "        df.loc[i,'foodSwamp_14'] = (df.loc[i,'fastFood_14'] + df.loc[i,'convenienceStores_14'])"
   ]
  },
  {
   "cell_type": "markdown",
   "metadata": {},
   "source": [
    "## Cleaning Data"
   ]
  },
  {
   "cell_type": "code",
   "execution_count": 70,
   "metadata": {
    "scrolled": false
   },
   "outputs": [
    {
     "data": {
      "image/png": "[encoded data removed]",
      "text/plain": [
       "<Figure size 1800x720 with 2 Axes>"
      ]
     },
     "metadata": {
      "needs_background": "light"
     },
     "output_type": "display_data"
    }
   ],
   "source": [
    "## Visualizng missing data\n",
    "msno.matrix(df);"
   ]
  },
  {
   "cell_type": "code",
   "execution_count": 71,
   "metadata": {},
   "outputs": [],
   "source": [
    "#### Removing data entries with nulls\n",
    "## 1) 84 rows removed because only CDC diabetes data included Puerto Rico\n",
    "## 2) 29 AK, 5 HI, 1 CO, 1 FL remaining rows removed because Natural Amenities Index didn't have data\n",
    "## 3) 30 remaining rows removed because of Nulls in lowAccessInc_pct_15 or Food Desert \n",
    "## 4) 15 remaining rows removed because transportation data was missing\n",
    "\n",
    "df_clean = df.dropna()\n",
    "df_clean.reset_index(inplace=True, drop=True)"
   ]
  },
  {
   "cell_type": "markdown",
   "metadata": {},
   "source": [
    "## Exporting to CSV"
   ]
  },
  {
   "cell_type": "code",
   "execution_count": 72,
   "metadata": {},
   "outputs": [],
   "source": [
    "## Exporting the full CSV\n",
    "df.to_csv('../data/exports/health_landscape.csv', index=False)\n",
    "\n",
    "## Exporting the cleaned CSV\n",
    "df_clean.to_csv('../data/exports/health_landscape_clean.csv', index=False)"
   ]
  }
 ],
 "metadata": {
  "kernelspec": {
   "display_name": "Python 3",
   "language": "python",
   "name": "python3"
  },
  "language_info": {
   "codemirror_mode": {
    "name": "ipython",
    "version": 3
   },
   "file_extension": ".py",
   "mimetype": "text/x-python",
   "name": "python",
   "nbconvert_exporter": "python",
   "pygments_lexer": "ipython3",
   "version": "3.6.8"
  }
 },
 "nbformat": 4,
 "nbformat_minor": 2
}
