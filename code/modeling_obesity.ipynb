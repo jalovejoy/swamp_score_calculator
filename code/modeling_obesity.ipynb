{
 "cells": [
  {
   "cell_type": "markdown",
   "metadata": {},
   "source": [
    "## Importing Libraries & Data"
   ]
  },
  {
   "cell_type": "code",
   "execution_count": 1,
   "metadata": {},
   "outputs": [],
   "source": [
    "import numpy as np\n",
    "import pandas as pd\n",
    "\n",
    "from sklearn.linear_model import LinearRegression\n",
    "from sklearn.preprocessing import StandardScaler\n",
    "from sklearn.model_selection import cross_val_score\n",
    "from sklearn.metrics import r2_score\n",
    "\n",
    "import statsmodels.api as sm\n",
    "from statsmodels.stats.outliers_influence import variance_inflation_factor    "
   ]
  },
  {
   "cell_type": "code",
   "execution_count": 2,
   "metadata": {},
   "outputs": [],
   "source": [
    "df = pd.read_csv('../data/exports/health_landscape_clean.csv').drop(columns=['avgLifeExpec',\n",
    "                                                                             'pct_diabetes_13',\n",
    "                                                                             'strokeDeath_rate'])"
   ]
  },
  {
   "cell_type": "code",
   "execution_count": 3,
   "metadata": {},
   "outputs": [],
   "source": [
    "def fips_to_obj(df):\n",
    "    df['FIPS'] = [int(i) for i in df['FIPS'].fillna(0)]\n",
    "    df['FIPS'] = df['FIPS'].astype('object')\n",
    "    fips_list = []\n",
    "    for i in df['FIPS']:\n",
    "        if len(str(i)) < 5:\n",
    "            fips_list.append('0' + str(i))\n",
    "        else:\n",
    "            fips_list.append(str(i))\n",
    "    df['FIPS'] = fips_list\n",
    "    return df\n",
    "\n",
    "df = fips_to_obj(df)"
   ]
  },
  {
   "cell_type": "markdown",
   "metadata": {},
   "source": [
    "## Baseline"
   ]
  },
  {
   "cell_type": "code",
   "execution_count": 4,
   "metadata": {},
   "outputs": [
    {
     "name": "stdout",
     "output_type": "stream",
     "text": [
      "Baseline: 31.040885416666697\n"
     ]
    }
   ],
   "source": [
    "print('Baseline:',df['obesityRate_13'].mean())"
   ]
  },
  {
   "cell_type": "markdown",
   "metadata": {},
   "source": [
    "## Replicating Study"
   ]
  },
  {
   "cell_type": "code",
   "execution_count": 5,
   "metadata": {},
   "outputs": [
    {
     "name": "stdout",
     "output_type": "stream",
     "text": [
      "Score: 0.44345542712843067\n",
      "Cross val score: 0.3508528154052518\n"
     ]
    }
   ],
   "source": [
    "X = df[['foodSwamp_14','pct_lowAccessInc_15','recreationFacilities_14', 'povRate_15','natAmenityIndex',\n",
    "        'milkSoda_priceRatio_10', 'pct_black', 'pct_hispanicORlatino','pct_over65','totalArea']]\n",
    "y = df['obesityRate_13']\n",
    "\n",
    "lr = LinearRegression()\n",
    "lr.fit(X, y)\n",
    "print('Score:',lr.score(X, y))\n",
    "print('Cross val score:',cross_val_score(lr, X, y, cv=5, scoring='explained_variance').mean())"
   ]
  },
  {
   "cell_type": "code",
   "execution_count": 6,
   "metadata": {},
   "outputs": [
    {
     "name": "stderr",
     "output_type": "stream",
     "text": [
      "/anaconda3/lib/python3.6/site-packages/numpy/core/fromnumeric.py:2389: FutureWarning: Method .ptp is deprecated and will be removed in a future version. Use numpy.ptp instead.\n",
      "  return ptp(axis=axis, out=out, **kwargs)\n"
     ]
    },
    {
     "data": {
      "text/html": [
       "<table class=\"simpletable\">\n",
       "<caption>OLS Regression Results</caption>\n",
       "<tr>\n",
       "  <th>Dep. Variable:</th>     <td>obesityRate_13</td>  <th>  R-squared:         </th> <td>   0.443</td> \n",
       "</tr>\n",
       "<tr>\n",
       "  <th>Model:</th>                   <td>OLS</td>       <th>  Adj. R-squared:    </th> <td>   0.442</td> \n",
       "</tr>\n",
       "<tr>\n",
       "  <th>Method:</th>             <td>Least Squares</td>  <th>  F-statistic:       </th> <td>   243.9</td> \n",
       "</tr>\n",
       "<tr>\n",
       "  <th>Date:</th>             <td>Fri, 10 May 2019</td> <th>  Prob (F-statistic):</th>  <td>  0.00</td>  \n",
       "</tr>\n",
       "<tr>\n",
       "  <th>Time:</th>                 <td>14:40:08</td>     <th>  Log-Likelihood:    </th> <td> -8085.6</td> \n",
       "</tr>\n",
       "<tr>\n",
       "  <th>No. Observations:</th>      <td>  3072</td>      <th>  AIC:               </th> <td>1.619e+04</td>\n",
       "</tr>\n",
       "<tr>\n",
       "  <th>Df Residuals:</th>          <td>  3061</td>      <th>  BIC:               </th> <td>1.626e+04</td>\n",
       "</tr>\n",
       "<tr>\n",
       "  <th>Df Model:</th>              <td>    10</td>      <th>                     </th>     <td> </td>    \n",
       "</tr>\n",
       "<tr>\n",
       "  <th>Covariance Type:</th>      <td>nonrobust</td>    <th>                     </th>     <td> </td>    \n",
       "</tr>\n",
       "</table>\n",
       "<table class=\"simpletable\">\n",
       "<tr>\n",
       "             <td></td>                <th>coef</th>     <th>std err</th>      <th>t</th>      <th>P>|t|</th>  <th>[0.025</th>    <th>0.975]</th>  \n",
       "</tr>\n",
       "<tr>\n",
       "  <th>const</th>                   <td>   31.4872</td> <td>    0.574</td> <td>   54.833</td> <td> 0.000</td> <td>   30.361</td> <td>   32.613</td>\n",
       "</tr>\n",
       "<tr>\n",
       "  <th>foodSwamp_14</th>            <td>    0.1325</td> <td>    0.025</td> <td>    5.281</td> <td> 0.000</td> <td>    0.083</td> <td>    0.182</td>\n",
       "</tr>\n",
       "<tr>\n",
       "  <th>pct_lowAccessInc_15</th>     <td>    0.0058</td> <td>    0.008</td> <td>    0.715</td> <td> 0.475</td> <td>   -0.010</td> <td>    0.022</td>\n",
       "</tr>\n",
       "<tr>\n",
       "  <th>recreationFacilities_14</th> <td>   -0.0254</td> <td>    0.002</td> <td>  -13.008</td> <td> 0.000</td> <td>   -0.029</td> <td>   -0.022</td>\n",
       "</tr>\n",
       "<tr>\n",
       "  <th>povRate_15</th>              <td>    0.2377</td> <td>    0.012</td> <td>   20.196</td> <td> 0.000</td> <td>    0.215</td> <td>    0.261</td>\n",
       "</tr>\n",
       "<tr>\n",
       "  <th>natAmenityIndex</th>         <td>   -1.4253</td> <td>    0.068</td> <td>  -20.819</td> <td> 0.000</td> <td>   -1.560</td> <td>   -1.291</td>\n",
       "</tr>\n",
       "<tr>\n",
       "  <th>milkSoda_priceRatio_10</th>  <td>    1.3419</td> <td>    0.528</td> <td>    2.539</td> <td> 0.011</td> <td>    0.306</td> <td>    2.378</td>\n",
       "</tr>\n",
       "<tr>\n",
       "  <th>pct_black</th>               <td>    3.9928</td> <td>    0.554</td> <td>    7.209</td> <td> 0.000</td> <td>    2.907</td> <td>    5.079</td>\n",
       "</tr>\n",
       "<tr>\n",
       "  <th>pct_hispanicORlatino</th>    <td>   -5.8246</td> <td>    0.527</td> <td>  -11.056</td> <td> 0.000</td> <td>   -6.858</td> <td>   -4.792</td>\n",
       "</tr>\n",
       "<tr>\n",
       "  <th>pct_over65</th>              <td>   -4.7645</td> <td>    1.568</td> <td>   -3.039</td> <td> 0.002</td> <td>   -7.839</td> <td>   -1.690</td>\n",
       "</tr>\n",
       "<tr>\n",
       "  <th>totalArea</th>               <td>-7.171e-06</td> <td> 5.31e-05</td> <td>   -0.135</td> <td> 0.893</td> <td>   -0.000</td> <td>  9.7e-05</td>\n",
       "</tr>\n",
       "</table>\n",
       "<table class=\"simpletable\">\n",
       "<tr>\n",
       "  <th>Omnibus:</th>       <td>53.436</td> <th>  Durbin-Watson:     </th> <td>   1.448</td>\n",
       "</tr>\n",
       "<tr>\n",
       "  <th>Prob(Omnibus):</th> <td> 0.000</td> <th>  Jarque-Bera (JB):  </th> <td>  73.589</td>\n",
       "</tr>\n",
       "<tr>\n",
       "  <th>Skew:</th>          <td>-0.211</td> <th>  Prob(JB):          </th> <td>1.05e-16</td>\n",
       "</tr>\n",
       "<tr>\n",
       "  <th>Kurtosis:</th>      <td> 3.630</td> <th>  Cond. No.          </th> <td>4.39e+04</td>\n",
       "</tr>\n",
       "</table><br/><br/>Warnings:<br/>[1] Standard Errors assume that the covariance matrix of the errors is correctly specified.<br/>[2] The condition number is large, 4.39e+04. This might indicate that there are<br/>strong multicollinearity or other numerical problems."
      ],
      "text/plain": [
       "<class 'statsmodels.iolib.summary.Summary'>\n",
       "\"\"\"\n",
       "                            OLS Regression Results                            \n",
       "==============================================================================\n",
       "Dep. Variable:         obesityRate_13   R-squared:                       0.443\n",
       "Model:                            OLS   Adj. R-squared:                  0.442\n",
       "Method:                 Least Squares   F-statistic:                     243.9\n",
       "Date:                Fri, 10 May 2019   Prob (F-statistic):               0.00\n",
       "Time:                        14:40:08   Log-Likelihood:                -8085.6\n",
       "No. Observations:                3072   AIC:                         1.619e+04\n",
       "Df Residuals:                    3061   BIC:                         1.626e+04\n",
       "Df Model:                          10                                         \n",
       "Covariance Type:            nonrobust                                         \n",
       "===========================================================================================\n",
       "                              coef    std err          t      P>|t|      [0.025      0.975]\n",
       "-------------------------------------------------------------------------------------------\n",
       "const                      31.4872      0.574     54.833      0.000      30.361      32.613\n",
       "foodSwamp_14                0.1325      0.025      5.281      0.000       0.083       0.182\n",
       "pct_lowAccessInc_15         0.0058      0.008      0.715      0.475      -0.010       0.022\n",
       "recreationFacilities_14    -0.0254      0.002    -13.008      0.000      -0.029      -0.022\n",
       "povRate_15                  0.2377      0.012     20.196      0.000       0.215       0.261\n",
       "natAmenityIndex            -1.4253      0.068    -20.819      0.000      -1.560      -1.291\n",
       "milkSoda_priceRatio_10      1.3419      0.528      2.539      0.011       0.306       2.378\n",
       "pct_black                   3.9928      0.554      7.209      0.000       2.907       5.079\n",
       "pct_hispanicORlatino       -5.8246      0.527    -11.056      0.000      -6.858      -4.792\n",
       "pct_over65                 -4.7645      1.568     -3.039      0.002      -7.839      -1.690\n",
       "totalArea               -7.171e-06   5.31e-05     -0.135      0.893      -0.000     9.7e-05\n",
       "==============================================================================\n",
       "Omnibus:                       53.436   Durbin-Watson:                   1.448\n",
       "Prob(Omnibus):                  0.000   Jarque-Bera (JB):               73.589\n",
       "Skew:                          -0.211   Prob(JB):                     1.05e-16\n",
       "Kurtosis:                       3.630   Cond. No.                     4.39e+04\n",
       "==============================================================================\n",
       "\n",
       "Warnings:\n",
       "[1] Standard Errors assume that the covariance matrix of the errors is correctly specified.\n",
       "[2] The condition number is large, 4.39e+04. This might indicate that there are\n",
       "strong multicollinearity or other numerical problems.\n",
       "\"\"\""
      ]
     },
     "execution_count": 6,
     "metadata": {},
     "output_type": "execute_result"
    }
   ],
   "source": [
    "X = sm.add_constant(X)\n",
    "model = sm.OLS(y, X).fit()\n",
    "predictions = model.predict(X)\n",
    "model.summary()"
   ]
  },
  {
   "cell_type": "code",
   "execution_count": 7,
   "metadata": {},
   "outputs": [
    {
     "data": {
      "text/plain": [
       "const                      89.200261\n",
       "foodSwamp_14                1.189776\n",
       "pct_lowAccessInc_15         1.137420\n",
       "recreationFacilities_14     1.166298\n",
       "povRate_15                  1.540199\n",
       "natAmenityIndex             1.376809\n",
       "milkSoda_priceRatio_10      1.402644\n",
       "pct_black                   1.750550\n",
       "pct_hispanicORlatino        1.405352\n",
       "pct_over65                  1.325864\n",
       "totalArea                   1.356419\n",
       "dtype: float64"
      ]
     },
     "execution_count": 7,
     "metadata": {},
     "output_type": "execute_result"
    }
   ],
   "source": [
    "pd.Series([variance_inflation_factor(X.values, i) \n",
    "            for i in range(X.shape[1])], \n",
    "            index=X.columns)"
   ]
  },
  {
   "cell_type": "code",
   "execution_count": null,
   "metadata": {},
   "outputs": [],
   "source": []
  },
  {
   "cell_type": "code",
   "execution_count": null,
   "metadata": {},
   "outputs": [],
   "source": []
  }
 ],
 "metadata": {
  "kernelspec": {
   "display_name": "Python 3",
   "language": "python",
   "name": "python3"
  },
  "language_info": {
   "codemirror_mode": {
    "name": "ipython",
    "version": 3
   },
   "file_extension": ".py",
   "mimetype": "text/x-python",
   "name": "python",
   "nbconvert_exporter": "python",
   "pygments_lexer": "ipython3",
   "version": "3.6.8"
  }
 },
 "nbformat": 4,
 "nbformat_minor": 2
}
