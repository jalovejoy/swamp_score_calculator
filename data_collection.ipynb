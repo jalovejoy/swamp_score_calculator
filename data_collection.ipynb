{
 "cells": [
  {
   "cell_type": "markdown",
   "metadata": {},
   "source": [
    "## Importing Libraries and Data"
   ]
  },
  {
   "cell_type": "code",
   "execution_count": 1,
   "metadata": {},
   "outputs": [],
   "source": [
    "import xlrd\n",
    "import numpy as np\n",
    "import pandas as pd"
   ]
  },
  {
   "cell_type": "code",
   "execution_count": 2,
   "metadata": {},
   "outputs": [],
   "source": [
    "book_usda = pd.read_excel('../../DATA/USDA-Food-Atlas.xls', sheet_name=None)"
   ]
  },
  {
   "cell_type": "code",
   "execution_count": 3,
   "metadata": {},
   "outputs": [],
   "source": [
    "readme = book_usda['Read_Me']\n",
    "variablelist = book_usda['Variable List']\n",
    "supplementaldata_county = book_usda['Supplemental Data - County']\n",
    "supplementaldata_state = book_usda['Supplemental Data - State']\n",
    "access = book_usda['ACCESS']\n",
    "stores = book_usda['STORES']\n",
    "restaurants = book_usda['RESTAURANTS']\n",
    "assistance = book_usda['ASSISTANCE']\n",
    "insecurity = book_usda['INSECURITY']\n",
    "prices_taxes = book_usda['PRICES_TAXES']\n",
    "local = book_usda['LOCAL']\n",
    "health = book_usda['HEALTH']\n",
    "socioeconomic = book_usda['SOCIOECONOMIC']"
   ]
  },
  {
   "cell_type": "code",
   "execution_count": 4,
   "metadata": {
    "scrolled": false
   },
   "outputs": [],
   "source": [
    "county_pop = pd.read_csv('../../DATA/factfinder_census/PEP_2018_PEPANNRES_with_ann.csv', encoding='utf-8')"
   ]
  },
  {
   "cell_type": "code",
   "execution_count": 5,
   "metadata": {},
   "outputs": [],
   "source": [
    "cdc_ob = pd.ExcelFile('../../DATA/DM_PREV_ALL_STATES.xlsx')\n",
    "cdc_ob = cdc_ob.parse(header=None)"
   ]
  },
  {
   "cell_type": "markdown",
   "metadata": {},
   "source": [
    "## Cleaning Up Data"
   ]
  },
  {
   "cell_type": "code",
   "execution_count": 6,
   "metadata": {},
   "outputs": [],
   "source": [
    "def fips_to_obj(df):\n",
    "    fips_list = []\n",
    "    for i in df['FIPS']:\n",
    "        if len(str(i)) < 5:\n",
    "            fips_list.append('0' + str(i))\n",
    "        else:\n",
    "            fips_list.append(str(i))\n",
    "    df['FIPS'] = fips_list\n",
    "    return df"
   ]
  },
  {
   "cell_type": "markdown",
   "metadata": {},
   "source": [
    "### Restaurants"
   ]
  },
  {
   "cell_type": "code",
   "execution_count": 7,
   "metadata": {},
   "outputs": [
    {
     "name": "stderr",
     "output_type": "stream",
     "text": [
      "/anaconda3/lib/python3.6/site-packages/ipykernel_launcher.py:8: SettingWithCopyWarning: \n",
      "A value is trying to be set on a copy of a slice from a DataFrame.\n",
      "Try using .loc[row_indexer,col_indexer] = value instead\n",
      "\n",
      "See the caveats in the documentation: http://pandas.pydata.org/pandas-docs/stable/indexing.html#indexing-view-versus-copy\n",
      "  \n"
     ]
    },
    {
     "data": {
      "text/html": [
       "<div>\n",
       "<style scoped>\n",
       "    .dataframe tbody tr th:only-of-type {\n",
       "        vertical-align: middle;\n",
       "    }\n",
       "\n",
       "    .dataframe tbody tr th {\n",
       "        vertical-align: top;\n",
       "    }\n",
       "\n",
       "    .dataframe thead th {\n",
       "        text-align: right;\n",
       "    }\n",
       "</style>\n",
       "<table border=\"1\" class=\"dataframe\">\n",
       "  <thead>\n",
       "    <tr style=\"text-align: right;\">\n",
       "      <th></th>\n",
       "      <th>FIPS</th>\n",
       "      <th>FFR09</th>\n",
       "      <th>FFR14</th>\n",
       "      <th>PC_FFRSALES07</th>\n",
       "      <th>PC_FFRSALES12</th>\n",
       "      <th>PC_FSRSALES07</th>\n",
       "      <th>PC_FSRSALES12</th>\n",
       "    </tr>\n",
       "  </thead>\n",
       "  <tbody>\n",
       "    <tr>\n",
       "      <th>0</th>\n",
       "      <td>01001</td>\n",
       "      <td>30</td>\n",
       "      <td>36</td>\n",
       "      <td>649.511367</td>\n",
       "      <td>674.80272</td>\n",
       "      <td>484.381507</td>\n",
       "      <td>512.280987</td>\n",
       "    </tr>\n",
       "    <tr>\n",
       "      <th>1</th>\n",
       "      <td>01003</td>\n",
       "      <td>112</td>\n",
       "      <td>132</td>\n",
       "      <td>649.511367</td>\n",
       "      <td>674.80272</td>\n",
       "      <td>484.381507</td>\n",
       "      <td>512.280987</td>\n",
       "    </tr>\n",
       "    <tr>\n",
       "      <th>2</th>\n",
       "      <td>01005</td>\n",
       "      <td>21</td>\n",
       "      <td>22</td>\n",
       "      <td>649.511367</td>\n",
       "      <td>674.80272</td>\n",
       "      <td>484.381507</td>\n",
       "      <td>512.280987</td>\n",
       "    </tr>\n",
       "    <tr>\n",
       "      <th>3</th>\n",
       "      <td>01007</td>\n",
       "      <td>7</td>\n",
       "      <td>5</td>\n",
       "      <td>649.511367</td>\n",
       "      <td>674.80272</td>\n",
       "      <td>484.381507</td>\n",
       "      <td>512.280987</td>\n",
       "    </tr>\n",
       "    <tr>\n",
       "      <th>4</th>\n",
       "      <td>01009</td>\n",
       "      <td>24</td>\n",
       "      <td>21</td>\n",
       "      <td>649.511367</td>\n",
       "      <td>674.80272</td>\n",
       "      <td>484.381507</td>\n",
       "      <td>512.280987</td>\n",
       "    </tr>\n",
       "  </tbody>\n",
       "</table>\n",
       "</div>"
      ],
      "text/plain": [
       "    FIPS  FFR09  FFR14  PC_FFRSALES07  PC_FFRSALES12  PC_FSRSALES07  \\\n",
       "0  01001     30     36     649.511367      674.80272     484.381507   \n",
       "1  01003    112    132     649.511367      674.80272     484.381507   \n",
       "2  01005     21     22     649.511367      674.80272     484.381507   \n",
       "3  01007      7      5     649.511367      674.80272     484.381507   \n",
       "4  01009     24     21     649.511367      674.80272     484.381507   \n",
       "\n",
       "   PC_FSRSALES12  \n",
       "0     512.280987  \n",
       "1     512.280987  \n",
       "2     512.280987  \n",
       "3     512.280987  \n",
       "4     512.280987  "
      ]
     },
     "execution_count": 7,
     "metadata": {},
     "output_type": "execute_result"
    }
   ],
   "source": [
    "df_rest = restaurants[['FIPS','FFR09','FFR14','PC_FFRSALES07','PC_FFRSALES12',\n",
    "             'PC_FSRSALES07','PC_FSRSALES12']]\n",
    "df_rest = fips_to_obj(df_rest)\n",
    "df_rest.head()"
   ]
  },
  {
   "cell_type": "markdown",
   "metadata": {},
   "source": [
    "### Stores"
   ]
  },
  {
   "cell_type": "code",
   "execution_count": 8,
   "metadata": {},
   "outputs": [
    {
     "name": "stderr",
     "output_type": "stream",
     "text": [
      "/anaconda3/lib/python3.6/site-packages/ipykernel_launcher.py:8: SettingWithCopyWarning: \n",
      "A value is trying to be set on a copy of a slice from a DataFrame.\n",
      "Try using .loc[row_indexer,col_indexer] = value instead\n",
      "\n",
      "See the caveats in the documentation: http://pandas.pydata.org/pandas-docs/stable/indexing.html#indexing-view-versus-copy\n",
      "  \n"
     ]
    },
    {
     "data": {
      "text/html": [
       "<div>\n",
       "<style scoped>\n",
       "    .dataframe tbody tr th:only-of-type {\n",
       "        vertical-align: middle;\n",
       "    }\n",
       "\n",
       "    .dataframe tbody tr th {\n",
       "        vertical-align: top;\n",
       "    }\n",
       "\n",
       "    .dataframe thead th {\n",
       "        text-align: right;\n",
       "    }\n",
       "</style>\n",
       "<table border=\"1\" class=\"dataframe\">\n",
       "  <thead>\n",
       "    <tr style=\"text-align: right;\">\n",
       "      <th></th>\n",
       "      <th>FIPS</th>\n",
       "      <th>GROC09</th>\n",
       "      <th>GROC14</th>\n",
       "      <th>SUPERC09</th>\n",
       "      <th>SUPERC14</th>\n",
       "      <th>CONVS09</th>\n",
       "      <th>CONVS14</th>\n",
       "      <th>SPECS09</th>\n",
       "      <th>SPECS09</th>\n",
       "    </tr>\n",
       "  </thead>\n",
       "  <tbody>\n",
       "    <tr>\n",
       "      <th>0</th>\n",
       "      <td>01001</td>\n",
       "      <td>6</td>\n",
       "      <td>4</td>\n",
       "      <td>1</td>\n",
       "      <td>1</td>\n",
       "      <td>29</td>\n",
       "      <td>30</td>\n",
       "      <td>2</td>\n",
       "      <td>2</td>\n",
       "    </tr>\n",
       "    <tr>\n",
       "      <th>1</th>\n",
       "      <td>01003</td>\n",
       "      <td>24</td>\n",
       "      <td>29</td>\n",
       "      <td>6</td>\n",
       "      <td>6</td>\n",
       "      <td>119</td>\n",
       "      <td>118</td>\n",
       "      <td>21</td>\n",
       "      <td>21</td>\n",
       "    </tr>\n",
       "    <tr>\n",
       "      <th>2</th>\n",
       "      <td>01005</td>\n",
       "      <td>5</td>\n",
       "      <td>5</td>\n",
       "      <td>0</td>\n",
       "      <td>1</td>\n",
       "      <td>14</td>\n",
       "      <td>19</td>\n",
       "      <td>2</td>\n",
       "      <td>2</td>\n",
       "    </tr>\n",
       "    <tr>\n",
       "      <th>3</th>\n",
       "      <td>01007</td>\n",
       "      <td>6</td>\n",
       "      <td>5</td>\n",
       "      <td>1</td>\n",
       "      <td>1</td>\n",
       "      <td>19</td>\n",
       "      <td>15</td>\n",
       "      <td>0</td>\n",
       "      <td>0</td>\n",
       "    </tr>\n",
       "    <tr>\n",
       "      <th>4</th>\n",
       "      <td>01009</td>\n",
       "      <td>6</td>\n",
       "      <td>6</td>\n",
       "      <td>1</td>\n",
       "      <td>1</td>\n",
       "      <td>31</td>\n",
       "      <td>27</td>\n",
       "      <td>2</td>\n",
       "      <td>2</td>\n",
       "    </tr>\n",
       "  </tbody>\n",
       "</table>\n",
       "</div>"
      ],
      "text/plain": [
       "    FIPS  GROC09  GROC14  SUPERC09  SUPERC14  CONVS09  CONVS14  SPECS09  \\\n",
       "0  01001       6       4         1         1       29       30        2   \n",
       "1  01003      24      29         6         6      119      118       21   \n",
       "2  01005       5       5         0         1       14       19        2   \n",
       "3  01007       6       5         1         1       19       15        0   \n",
       "4  01009       6       6         1         1       31       27        2   \n",
       "\n",
       "   SPECS09  \n",
       "0        2  \n",
       "1       21  \n",
       "2        2  \n",
       "3        0  \n",
       "4        2  "
      ]
     },
     "execution_count": 8,
     "metadata": {},
     "output_type": "execute_result"
    }
   ],
   "source": [
    "df_stores = stores[['FIPS','GROC09','GROC14','SUPERC09','SUPERC14','CONVS09','CONVS14',\n",
    "                    'SPECS09','SPECS09']]\n",
    "df_stores = fips_to_obj(df_stores)\n",
    "df_stores.head()"
   ]
  },
  {
   "cell_type": "markdown",
   "metadata": {},
   "source": [
    "### Population Data"
   ]
  },
  {
   "cell_type": "code",
   "execution_count": 9,
   "metadata": {},
   "outputs": [],
   "source": [
    "supplementaldata_county.rename(columns={'FIPS ':'FIPS'}, inplace=True)"
   ]
  },
  {
   "cell_type": "code",
   "execution_count": 10,
   "metadata": {},
   "outputs": [],
   "source": [
    "supplementaldata_county = fips_to_obj(supplementaldata_county)\n",
    "supplementaldata_county.columns = [i.replace(' ','_').replace(',','')\\\n",
    "                                   for i in supplementaldata_county.columns.tolist()]\n"
   ]
  },
  {
   "cell_type": "code",
   "execution_count": 11,
   "metadata": {},
   "outputs": [],
   "source": [
    "df_pop = supplementaldata_county.drop(columns=['State','County'])"
   ]
  },
  {
   "cell_type": "code",
   "execution_count": 12,
   "metadata": {},
   "outputs": [
    {
     "data": {
      "text/html": [
       "<div>\n",
       "<style scoped>\n",
       "    .dataframe tbody tr th:only-of-type {\n",
       "        vertical-align: middle;\n",
       "    }\n",
       "\n",
       "    .dataframe tbody tr th {\n",
       "        vertical-align: top;\n",
       "    }\n",
       "\n",
       "    .dataframe thead th {\n",
       "        text-align: right;\n",
       "    }\n",
       "</style>\n",
       "<table border=\"1\" class=\"dataframe\">\n",
       "  <thead>\n",
       "    <tr style=\"text-align: right;\">\n",
       "      <th></th>\n",
       "      <th>FIPS</th>\n",
       "      <th>2010_Census_Population</th>\n",
       "      <th>Population_Estimate_2011</th>\n",
       "      <th>Population_Estimate_2012</th>\n",
       "      <th>Population_Estimate_2013</th>\n",
       "      <th>Population_Estimate_2014</th>\n",
       "      <th>Population_Estimate_2015</th>\n",
       "      <th>Population_Estimate_2016</th>\n",
       "    </tr>\n",
       "  </thead>\n",
       "  <tbody>\n",
       "    <tr>\n",
       "      <th>0</th>\n",
       "      <td>01001</td>\n",
       "      <td>54,571</td>\n",
       "      <td>55,255</td>\n",
       "      <td>55,027</td>\n",
       "      <td>54,792</td>\n",
       "      <td>54,977</td>\n",
       "      <td>55,035</td>\n",
       "      <td>55,416</td>\n",
       "    </tr>\n",
       "    <tr>\n",
       "      <th>1</th>\n",
       "      <td>01003</td>\n",
       "      <td>182,265</td>\n",
       "      <td>186,653</td>\n",
       "      <td>190,403</td>\n",
       "      <td>195,147</td>\n",
       "      <td>199,745</td>\n",
       "      <td>203,690</td>\n",
       "      <td>208,563</td>\n",
       "    </tr>\n",
       "    <tr>\n",
       "      <th>2</th>\n",
       "      <td>01005</td>\n",
       "      <td>27,457</td>\n",
       "      <td>27,326</td>\n",
       "      <td>27,132</td>\n",
       "      <td>26,938</td>\n",
       "      <td>26,763</td>\n",
       "      <td>26,270</td>\n",
       "      <td>25,965</td>\n",
       "    </tr>\n",
       "    <tr>\n",
       "      <th>3</th>\n",
       "      <td>01007</td>\n",
       "      <td>22,915</td>\n",
       "      <td>22,736</td>\n",
       "      <td>22,645</td>\n",
       "      <td>22,501</td>\n",
       "      <td>22,511</td>\n",
       "      <td>22,561</td>\n",
       "      <td>22,643</td>\n",
       "    </tr>\n",
       "    <tr>\n",
       "      <th>4</th>\n",
       "      <td>01009</td>\n",
       "      <td>57,322</td>\n",
       "      <td>57,707</td>\n",
       "      <td>57,772</td>\n",
       "      <td>57,746</td>\n",
       "      <td>57,621</td>\n",
       "      <td>57,676</td>\n",
       "      <td>57,704</td>\n",
       "    </tr>\n",
       "  </tbody>\n",
       "</table>\n",
       "</div>"
      ],
      "text/plain": [
       "    FIPS 2010_Census_Population Population_Estimate_2011  \\\n",
       "0  01001                 54,571                   55,255   \n",
       "1  01003                182,265                  186,653   \n",
       "2  01005                 27,457                   27,326   \n",
       "3  01007                 22,915                   22,736   \n",
       "4  01009                 57,322                   57,707   \n",
       "\n",
       "  Population_Estimate_2012 Population_Estimate_2013 Population_Estimate_2014  \\\n",
       "0                   55,027                   54,792                   54,977   \n",
       "1                  190,403                  195,147                  199,745   \n",
       "2                   27,132                   26,938                   26,763   \n",
       "3                   22,645                   22,501                   22,511   \n",
       "4                   57,772                   57,746                   57,621   \n",
       "\n",
       "  Population_Estimate_2015 Population_Estimate_2016  \n",
       "0                   55,035                   55,416  \n",
       "1                  203,690                  208,563  \n",
       "2                   26,270                   25,965  \n",
       "3                   22,561                   22,643  \n",
       "4                   57,676                   57,704  "
      ]
     },
     "execution_count": 12,
     "metadata": {},
     "output_type": "execute_result"
    }
   ],
   "source": [
    "df_pop.head()"
   ]
  },
  {
   "cell_type": "markdown",
   "metadata": {},
   "source": [
    "### Access"
   ]
  },
  {
   "cell_type": "code",
   "execution_count": 13,
   "metadata": {},
   "outputs": [],
   "source": [
    "access = fips_to_obj(access)"
   ]
  },
  {
   "cell_type": "code",
   "execution_count": 14,
   "metadata": {},
   "outputs": [
    {
     "data": {
      "text/html": [
       "<div>\n",
       "<style scoped>\n",
       "    .dataframe tbody tr th:only-of-type {\n",
       "        vertical-align: middle;\n",
       "    }\n",
       "\n",
       "    .dataframe tbody tr th {\n",
       "        vertical-align: top;\n",
       "    }\n",
       "\n",
       "    .dataframe thead th {\n",
       "        text-align: right;\n",
       "    }\n",
       "</style>\n",
       "<table border=\"1\" class=\"dataframe\">\n",
       "  <thead>\n",
       "    <tr style=\"text-align: right;\">\n",
       "      <th></th>\n",
       "      <th>FIPS</th>\n",
       "      <th>State</th>\n",
       "      <th>County</th>\n",
       "      <th>LACCESS_POP10</th>\n",
       "      <th>LACCESS_POP15</th>\n",
       "      <th>PCH_LACCESS_POP_10_15</th>\n",
       "      <th>PCT_LACCESS_POP10</th>\n",
       "      <th>PCT_LACCESS_POP15</th>\n",
       "      <th>LACCESS_LOWI10</th>\n",
       "      <th>LACCESS_LOWI15</th>\n",
       "      <th>...</th>\n",
       "      <th>LACCESS_HISP15</th>\n",
       "      <th>PCT_LACCESS_HISP15</th>\n",
       "      <th>LACCESS_NHASIAN15</th>\n",
       "      <th>PCT_LACCESS_NHASIAN15</th>\n",
       "      <th>LACCESS_NHNA15</th>\n",
       "      <th>PCT_LACCESS_NHNA15</th>\n",
       "      <th>LACCESS_NHPI15</th>\n",
       "      <th>PCT_LACCESS_NHPI15</th>\n",
       "      <th>LACCESS_MULTIR15</th>\n",
       "      <th>PCT_LACCESS_MULTIR15</th>\n",
       "    </tr>\n",
       "  </thead>\n",
       "  <tbody>\n",
       "    <tr>\n",
       "      <th>0</th>\n",
       "      <td>01001</td>\n",
       "      <td>AL</td>\n",
       "      <td>Autauga</td>\n",
       "      <td>18428.439685</td>\n",
       "      <td>17496.693038</td>\n",
       "      <td>-5.056026</td>\n",
       "      <td>33.769657</td>\n",
       "      <td>32.062255</td>\n",
       "      <td>5344.427472</td>\n",
       "      <td>6543.676824</td>\n",
       "      <td>...</td>\n",
       "      <td>471.136164</td>\n",
       "      <td>0.863345</td>\n",
       "      <td>86.767975</td>\n",
       "      <td>0.159000</td>\n",
       "      <td>61.169869</td>\n",
       "      <td>0.112092</td>\n",
       "      <td>8.817961</td>\n",
       "      <td>0.016159</td>\n",
       "      <td>482.848633</td>\n",
       "      <td>0.884808</td>\n",
       "    </tr>\n",
       "    <tr>\n",
       "      <th>1</th>\n",
       "      <td>01003</td>\n",
       "      <td>AL</td>\n",
       "      <td>Baldwin</td>\n",
       "      <td>35210.814078</td>\n",
       "      <td>30561.264430</td>\n",
       "      <td>-13.204891</td>\n",
       "      <td>19.318473</td>\n",
       "      <td>16.767489</td>\n",
       "      <td>9952.144027</td>\n",
       "      <td>9886.831137</td>\n",
       "      <td>...</td>\n",
       "      <td>1377.874834</td>\n",
       "      <td>0.755973</td>\n",
       "      <td>212.946378</td>\n",
       "      <td>0.116833</td>\n",
       "      <td>181.649648</td>\n",
       "      <td>0.099662</td>\n",
       "      <td>14.819634</td>\n",
       "      <td>0.008131</td>\n",
       "      <td>1127.696098</td>\n",
       "      <td>0.618712</td>\n",
       "    </tr>\n",
       "    <tr>\n",
       "      <th>2</th>\n",
       "      <td>01005</td>\n",
       "      <td>AL</td>\n",
       "      <td>Barbour</td>\n",
       "      <td>5722.305602</td>\n",
       "      <td>6069.523628</td>\n",
       "      <td>6.067799</td>\n",
       "      <td>20.840972</td>\n",
       "      <td>22.105560</td>\n",
       "      <td>3135.676086</td>\n",
       "      <td>2948.790251</td>\n",
       "      <td>...</td>\n",
       "      <td>509.377525</td>\n",
       "      <td>1.855183</td>\n",
       "      <td>17.096410</td>\n",
       "      <td>0.062266</td>\n",
       "      <td>39.960527</td>\n",
       "      <td>0.145539</td>\n",
       "      <td>8.082376</td>\n",
       "      <td>0.029436</td>\n",
       "      <td>462.382655</td>\n",
       "      <td>1.684025</td>\n",
       "    </tr>\n",
       "    <tr>\n",
       "      <th>3</th>\n",
       "      <td>01007</td>\n",
       "      <td>AL</td>\n",
       "      <td>Bibb</td>\n",
       "      <td>1044.867327</td>\n",
       "      <td>969.378841</td>\n",
       "      <td>-7.224696</td>\n",
       "      <td>4.559753</td>\n",
       "      <td>4.230324</td>\n",
       "      <td>491.449066</td>\n",
       "      <td>596.162829</td>\n",
       "      <td>...</td>\n",
       "      <td>8.596762</td>\n",
       "      <td>0.037516</td>\n",
       "      <td>1.994318</td>\n",
       "      <td>0.008703</td>\n",
       "      <td>2.513097</td>\n",
       "      <td>0.010967</td>\n",
       "      <td>0.000000</td>\n",
       "      <td>0.000000</td>\n",
       "      <td>5.259244</td>\n",
       "      <td>0.022951</td>\n",
       "    </tr>\n",
       "    <tr>\n",
       "      <th>4</th>\n",
       "      <td>01009</td>\n",
       "      <td>AL</td>\n",
       "      <td>Blount</td>\n",
       "      <td>1548.175559</td>\n",
       "      <td>3724.428242</td>\n",
       "      <td>140.568857</td>\n",
       "      <td>2.700840</td>\n",
       "      <td>6.497380</td>\n",
       "      <td>609.027708</td>\n",
       "      <td>1650.959482</td>\n",
       "      <td>...</td>\n",
       "      <td>497.489891</td>\n",
       "      <td>0.867886</td>\n",
       "      <td>8.428994</td>\n",
       "      <td>0.014705</td>\n",
       "      <td>28.938242</td>\n",
       "      <td>0.050484</td>\n",
       "      <td>1.062851</td>\n",
       "      <td>0.001854</td>\n",
       "      <td>202.914187</td>\n",
       "      <td>0.353990</td>\n",
       "    </tr>\n",
       "  </tbody>\n",
       "</table>\n",
       "<p>5 rows × 44 columns</p>\n",
       "</div>"
      ],
      "text/plain": [
       "    FIPS State   County  LACCESS_POP10  LACCESS_POP15  PCH_LACCESS_POP_10_15  \\\n",
       "0  01001    AL  Autauga   18428.439685   17496.693038              -5.056026   \n",
       "1  01003    AL  Baldwin   35210.814078   30561.264430             -13.204891   \n",
       "2  01005    AL  Barbour    5722.305602    6069.523628               6.067799   \n",
       "3  01007    AL     Bibb    1044.867327     969.378841              -7.224696   \n",
       "4  01009    AL   Blount    1548.175559    3724.428242             140.568857   \n",
       "\n",
       "   PCT_LACCESS_POP10  PCT_LACCESS_POP15  LACCESS_LOWI10  LACCESS_LOWI15  ...  \\\n",
       "0          33.769657          32.062255     5344.427472     6543.676824  ...   \n",
       "1          19.318473          16.767489     9952.144027     9886.831137  ...   \n",
       "2          20.840972          22.105560     3135.676086     2948.790251  ...   \n",
       "3           4.559753           4.230324      491.449066      596.162829  ...   \n",
       "4           2.700840           6.497380      609.027708     1650.959482  ...   \n",
       "\n",
       "   LACCESS_HISP15  PCT_LACCESS_HISP15  LACCESS_NHASIAN15  \\\n",
       "0      471.136164            0.863345          86.767975   \n",
       "1     1377.874834            0.755973         212.946378   \n",
       "2      509.377525            1.855183          17.096410   \n",
       "3        8.596762            0.037516           1.994318   \n",
       "4      497.489891            0.867886           8.428994   \n",
       "\n",
       "   PCT_LACCESS_NHASIAN15  LACCESS_NHNA15  PCT_LACCESS_NHNA15  LACCESS_NHPI15  \\\n",
       "0               0.159000       61.169869            0.112092        8.817961   \n",
       "1               0.116833      181.649648            0.099662       14.819634   \n",
       "2               0.062266       39.960527            0.145539        8.082376   \n",
       "3               0.008703        2.513097            0.010967        0.000000   \n",
       "4               0.014705       28.938242            0.050484        1.062851   \n",
       "\n",
       "   PCT_LACCESS_NHPI15  LACCESS_MULTIR15  PCT_LACCESS_MULTIR15  \n",
       "0            0.016159        482.848633              0.884808  \n",
       "1            0.008131       1127.696098              0.618712  \n",
       "2            0.029436        462.382655              1.684025  \n",
       "3            0.000000          5.259244              0.022951  \n",
       "4            0.001854        202.914187              0.353990  \n",
       "\n",
       "[5 rows x 44 columns]"
      ]
     },
     "execution_count": 14,
     "metadata": {},
     "output_type": "execute_result"
    }
   ],
   "source": [
    "access.head()"
   ]
  },
  {
   "cell_type": "code",
   "execution_count": 15,
   "metadata": {},
   "outputs": [],
   "source": [
    "df_access = access[['FIPS','LACCESS_POP10','LACCESS_POP15','LACCESS_LOWI10','LACCESS_LOWI15',\n",
    "                    'LACCESS_HHNV10','LACCESS_HHNV15']]"
   ]
  },
  {
   "cell_type": "markdown",
   "metadata": {},
   "source": [
    "### USDA: Health"
   ]
  },
  {
   "cell_type": "code",
   "execution_count": 16,
   "metadata": {},
   "outputs": [
    {
     "data": {
      "text/plain": [
       "Index(['FIPS', 'State', 'County', 'PCT_DIABETES_ADULTS08',\n",
       "       'PCT_DIABETES_ADULTS13', 'PCT_OBESE_ADULTS08', 'PCT_OBESE_ADULTS13',\n",
       "       'PCT_HSPA15', 'RECFAC09', 'RECFAC14', 'PCH_RECFAC_09_14', 'RECFACPTH09',\n",
       "       'RECFACPTH14', 'PCH_RECFACPTH_09_14'],\n",
       "      dtype='object')"
      ]
     },
     "execution_count": 16,
     "metadata": {},
     "output_type": "execute_result"
    }
   ],
   "source": [
    "health.columns"
   ]
  },
  {
   "cell_type": "code",
   "execution_count": 17,
   "metadata": {},
   "outputs": [],
   "source": [
    "health = fips_to_obj(health)"
   ]
  },
  {
   "cell_type": "code",
   "execution_count": 18,
   "metadata": {},
   "outputs": [],
   "source": [
    "df_health = health[['FIPS','PCT_OBESE_ADULTS13','RECFAC14']]"
   ]
  },
  {
   "cell_type": "markdown",
   "metadata": {},
   "source": [
    "### CDC: Obesity Rates"
   ]
  },
  {
   "cell_type": "code",
   "execution_count": 19,
   "metadata": {},
   "outputs": [],
   "source": [
    "cols_replace = {}\n",
    "set_header= ''\n",
    "for i, header in enumerate(list(cdc_ob.iloc[0,0:])):\n",
    "    if str(header) != 'nan':\n",
    "        set_header = header\n",
    "    if set_header == 'Diagnosed Diabetes Prevalence':\n",
    "        cols_replace[i] = str(cdc_ob.iloc[1,i]).replace(' ','_')\n",
    "    else:\n",
    "        cols_replace[i] = str(cdc_ob.iloc[1,i]).replace(' ','_') + \"_\" + str(set_header)"
   ]
  },
  {
   "cell_type": "code",
   "execution_count": 20,
   "metadata": {},
   "outputs": [],
   "source": [
    "cdc_ob.rename(columns=cols_replace, inplace=True)\n",
    "cdc_ob.drop(index=[0,1], inplace=True)"
   ]
  },
  {
   "cell_type": "code",
   "execution_count": 21,
   "metadata": {},
   "outputs": [],
   "source": [
    "county_list = []\n",
    "for i in cdc_ob['County']:\n",
    "    county_list.append(i.replace(' County',''))\n",
    "cdc_ob['County'] = county_list"
   ]
  },
  {
   "cell_type": "code",
   "execution_count": 22,
   "metadata": {},
   "outputs": [],
   "source": [
    "cdc_df = cdc_ob[['FIPS_Codes','State','County','number_2004','number_2005','number_2006','number_2007',\n",
    "                 'number_2008','number_2009','number_2010','number_2011','number_2012','number_2013']]"
   ]
  },
  {
   "cell_type": "code",
   "execution_count": 23,
   "metadata": {},
   "outputs": [
    {
     "data": {
      "text/html": [
       "<div>\n",
       "<style scoped>\n",
       "    .dataframe tbody tr th:only-of-type {\n",
       "        vertical-align: middle;\n",
       "    }\n",
       "\n",
       "    .dataframe tbody tr th {\n",
       "        vertical-align: top;\n",
       "    }\n",
       "\n",
       "    .dataframe thead th {\n",
       "        text-align: right;\n",
       "    }\n",
       "</style>\n",
       "<table border=\"1\" class=\"dataframe\">\n",
       "  <thead>\n",
       "    <tr style=\"text-align: right;\">\n",
       "      <th></th>\n",
       "      <th>FIPS_Codes</th>\n",
       "      <th>State</th>\n",
       "      <th>County</th>\n",
       "      <th>number_2004</th>\n",
       "      <th>number_2005</th>\n",
       "      <th>number_2006</th>\n",
       "      <th>number_2007</th>\n",
       "      <th>number_2008</th>\n",
       "      <th>number_2009</th>\n",
       "      <th>number_2010</th>\n",
       "      <th>number_2011</th>\n",
       "      <th>number_2012</th>\n",
       "      <th>number_2013</th>\n",
       "    </tr>\n",
       "  </thead>\n",
       "  <tbody>\n",
       "    <tr>\n",
       "      <th>2</th>\n",
       "      <td>01001</td>\n",
       "      <td>Alabama</td>\n",
       "      <td>Autauga</td>\n",
       "      <td>3368</td>\n",
       "      <td>3864</td>\n",
       "      <td>4038</td>\n",
       "      <td>4044</td>\n",
       "      <td>4112</td>\n",
       "      <td>4338</td>\n",
       "      <td>4560</td>\n",
       "      <td>4748</td>\n",
       "      <td>4724</td>\n",
       "      <td>5144</td>\n",
       "    </tr>\n",
       "    <tr>\n",
       "      <th>3</th>\n",
       "      <td>01003</td>\n",
       "      <td>Alabama</td>\n",
       "      <td>Baldwin</td>\n",
       "      <td>9509</td>\n",
       "      <td>10240</td>\n",
       "      <td>11530</td>\n",
       "      <td>12050</td>\n",
       "      <td>12680</td>\n",
       "      <td>15300</td>\n",
       "      <td>16197</td>\n",
       "      <td>16021</td>\n",
       "      <td>15437</td>\n",
       "      <td>15367</td>\n",
       "    </tr>\n",
       "    <tr>\n",
       "      <th>4</th>\n",
       "      <td>01005</td>\n",
       "      <td>Alabama</td>\n",
       "      <td>Barbour</td>\n",
       "      <td>2117</td>\n",
       "      <td>2246</td>\n",
       "      <td>2571</td>\n",
       "      <td>2711</td>\n",
       "      <td>2979</td>\n",
       "      <td>3122</td>\n",
       "      <td>2945</td>\n",
       "      <td>3085</td>\n",
       "      <td>3377</td>\n",
       "      <td>3813</td>\n",
       "    </tr>\n",
       "    <tr>\n",
       "      <th>5</th>\n",
       "      <td>01007</td>\n",
       "      <td>Alabama</td>\n",
       "      <td>Bibb</td>\n",
       "      <td>1406</td>\n",
       "      <td>1496</td>\n",
       "      <td>1738</td>\n",
       "      <td>1849</td>\n",
       "      <td>1794</td>\n",
       "      <td>1888</td>\n",
       "      <td>1906</td>\n",
       "      <td>2181</td>\n",
       "      <td>2276</td>\n",
       "      <td>2557</td>\n",
       "    </tr>\n",
       "    <tr>\n",
       "      <th>6</th>\n",
       "      <td>01009</td>\n",
       "      <td>Alabama</td>\n",
       "      <td>Blount</td>\n",
       "      <td>3367</td>\n",
       "      <td>3548</td>\n",
       "      <td>4009</td>\n",
       "      <td>4363</td>\n",
       "      <td>4833</td>\n",
       "      <td>5403</td>\n",
       "      <td>5841</td>\n",
       "      <td>5578</td>\n",
       "      <td>5869</td>\n",
       "      <td>5990</td>\n",
       "    </tr>\n",
       "  </tbody>\n",
       "</table>\n",
       "</div>"
      ],
      "text/plain": [
       "  FIPS_Codes    State   County number_2004 number_2005 number_2006  \\\n",
       "2      01001  Alabama  Autauga        3368        3864        4038   \n",
       "3      01003  Alabama  Baldwin        9509       10240       11530   \n",
       "4      01005  Alabama  Barbour        2117        2246        2571   \n",
       "5      01007  Alabama     Bibb        1406        1496        1738   \n",
       "6      01009  Alabama   Blount        3367        3548        4009   \n",
       "\n",
       "  number_2007 number_2008 number_2009 number_2010 number_2011 number_2012  \\\n",
       "2        4044        4112        4338        4560        4748        4724   \n",
       "3       12050       12680       15300       16197       16021       15437   \n",
       "4        2711        2979        3122        2945        3085        3377   \n",
       "5        1849        1794        1888        1906        2181        2276   \n",
       "6        4363        4833        5403        5841        5578        5869   \n",
       "\n",
       "  number_2013  \n",
       "2        5144  \n",
       "3       15367  \n",
       "4        3813  \n",
       "5        2557  \n",
       "6        5990  "
      ]
     },
     "execution_count": 23,
     "metadata": {},
     "output_type": "execute_result"
    }
   ],
   "source": [
    "cdc_df.head()"
   ]
  },
  {
   "cell_type": "markdown",
   "metadata": {},
   "source": [
    "## Merging Data"
   ]
  },
  {
   "cell_type": "code",
   "execution_count": 24,
   "metadata": {},
   "outputs": [],
   "source": [
    "df = pd.merge(left=cdc_df, right=df_rest, left_on='FIPS_Codes', right_on='FIPS', ).drop(columns='FIPS')\n",
    "df = pd.merge(left=df, right=df_stores, left_on='FIPS_Codes', right_on='FIPS', ).drop(columns='FIPS')\n",
    "df = pd.merge(left=df, right=df_pop, left_on='FIPS_Codes', right_on='FIPS', ).drop(columns='FIPS')\n",
    "df = pd.merge(left=df, right=df_access, left_on='FIPS_Codes', right_on='FIPS', ).drop(columns='FIPS')\n",
    "df = pd.merge(left=df, right=df_health, left_on='FIPS_Codes', right_on='FIPS', ).drop(columns='FIPS')"
   ]
  },
  {
   "cell_type": "code",
   "execution_count": 25,
   "metadata": {},
   "outputs": [
    {
     "data": {
      "text/html": [
       "<div>\n",
       "<style scoped>\n",
       "    .dataframe tbody tr th:only-of-type {\n",
       "        vertical-align: middle;\n",
       "    }\n",
       "\n",
       "    .dataframe tbody tr th {\n",
       "        vertical-align: top;\n",
       "    }\n",
       "\n",
       "    .dataframe thead th {\n",
       "        text-align: right;\n",
       "    }\n",
       "</style>\n",
       "<table border=\"1\" class=\"dataframe\">\n",
       "  <thead>\n",
       "    <tr style=\"text-align: right;\">\n",
       "      <th></th>\n",
       "      <th>FIPS_Codes</th>\n",
       "      <th>State</th>\n",
       "      <th>County</th>\n",
       "      <th>number_2004</th>\n",
       "      <th>number_2005</th>\n",
       "      <th>number_2006</th>\n",
       "      <th>number_2007</th>\n",
       "      <th>number_2008</th>\n",
       "      <th>number_2009</th>\n",
       "      <th>number_2010</th>\n",
       "      <th>...</th>\n",
       "      <th>Population_Estimate_2015</th>\n",
       "      <th>Population_Estimate_2016</th>\n",
       "      <th>LACCESS_POP10</th>\n",
       "      <th>LACCESS_POP15</th>\n",
       "      <th>LACCESS_LOWI10</th>\n",
       "      <th>LACCESS_LOWI15</th>\n",
       "      <th>LACCESS_HHNV10</th>\n",
       "      <th>LACCESS_HHNV15</th>\n",
       "      <th>PCT_OBESE_ADULTS13</th>\n",
       "      <th>RECFAC14</th>\n",
       "    </tr>\n",
       "  </thead>\n",
       "  <tbody>\n",
       "    <tr>\n",
       "      <th>0</th>\n",
       "      <td>01001</td>\n",
       "      <td>Alabama</td>\n",
       "      <td>Autauga</td>\n",
       "      <td>3368</td>\n",
       "      <td>3864</td>\n",
       "      <td>4038</td>\n",
       "      <td>4044</td>\n",
       "      <td>4112</td>\n",
       "      <td>4338</td>\n",
       "      <td>4560</td>\n",
       "      <td>...</td>\n",
       "      <td>55,035</td>\n",
       "      <td>55,416</td>\n",
       "      <td>18428.439685</td>\n",
       "      <td>17496.693038</td>\n",
       "      <td>5344.427472</td>\n",
       "      <td>6543.676824</td>\n",
       "      <td>664.216487</td>\n",
       "      <td>677.672769</td>\n",
       "      <td>34.1</td>\n",
       "      <td>5</td>\n",
       "    </tr>\n",
       "    <tr>\n",
       "      <th>1</th>\n",
       "      <td>01003</td>\n",
       "      <td>Alabama</td>\n",
       "      <td>Baldwin</td>\n",
       "      <td>9509</td>\n",
       "      <td>10240</td>\n",
       "      <td>11530</td>\n",
       "      <td>12050</td>\n",
       "      <td>12680</td>\n",
       "      <td>15300</td>\n",
       "      <td>16197</td>\n",
       "      <td>...</td>\n",
       "      <td>203,690</td>\n",
       "      <td>208,563</td>\n",
       "      <td>35210.814078</td>\n",
       "      <td>30561.264430</td>\n",
       "      <td>9952.144027</td>\n",
       "      <td>9886.831137</td>\n",
       "      <td>1571.779915</td>\n",
       "      <td>1394.162766</td>\n",
       "      <td>27.4</td>\n",
       "      <td>25</td>\n",
       "    </tr>\n",
       "    <tr>\n",
       "      <th>2</th>\n",
       "      <td>01005</td>\n",
       "      <td>Alabama</td>\n",
       "      <td>Barbour</td>\n",
       "      <td>2117</td>\n",
       "      <td>2246</td>\n",
       "      <td>2571</td>\n",
       "      <td>2711</td>\n",
       "      <td>2979</td>\n",
       "      <td>3122</td>\n",
       "      <td>2945</td>\n",
       "      <td>...</td>\n",
       "      <td>26,270</td>\n",
       "      <td>25,965</td>\n",
       "      <td>5722.305602</td>\n",
       "      <td>6069.523628</td>\n",
       "      <td>3135.676086</td>\n",
       "      <td>2948.790251</td>\n",
       "      <td>406.142372</td>\n",
       "      <td>425.144927</td>\n",
       "      <td>44.4</td>\n",
       "      <td>0</td>\n",
       "    </tr>\n",
       "    <tr>\n",
       "      <th>3</th>\n",
       "      <td>01007</td>\n",
       "      <td>Alabama</td>\n",
       "      <td>Bibb</td>\n",
       "      <td>1406</td>\n",
       "      <td>1496</td>\n",
       "      <td>1738</td>\n",
       "      <td>1849</td>\n",
       "      <td>1794</td>\n",
       "      <td>1888</td>\n",
       "      <td>1906</td>\n",
       "      <td>...</td>\n",
       "      <td>22,561</td>\n",
       "      <td>22,643</td>\n",
       "      <td>1044.867327</td>\n",
       "      <td>969.378841</td>\n",
       "      <td>491.449066</td>\n",
       "      <td>596.162829</td>\n",
       "      <td>275.060875</td>\n",
       "      <td>224.388125</td>\n",
       "      <td>40.3</td>\n",
       "      <td>1</td>\n",
       "    </tr>\n",
       "    <tr>\n",
       "      <th>4</th>\n",
       "      <td>01009</td>\n",
       "      <td>Alabama</td>\n",
       "      <td>Blount</td>\n",
       "      <td>3367</td>\n",
       "      <td>3548</td>\n",
       "      <td>4009</td>\n",
       "      <td>4363</td>\n",
       "      <td>4833</td>\n",
       "      <td>5403</td>\n",
       "      <td>5841</td>\n",
       "      <td>...</td>\n",
       "      <td>57,676</td>\n",
       "      <td>57,704</td>\n",
       "      <td>1548.175559</td>\n",
       "      <td>3724.428242</td>\n",
       "      <td>609.027708</td>\n",
       "      <td>1650.959482</td>\n",
       "      <td>705.466783</td>\n",
       "      <td>719.931444</td>\n",
       "      <td>34.6</td>\n",
       "      <td>3</td>\n",
       "    </tr>\n",
       "  </tbody>\n",
       "</table>\n",
       "<p>5 rows × 42 columns</p>\n",
       "</div>"
      ],
      "text/plain": [
       "  FIPS_Codes    State   County number_2004 number_2005 number_2006  \\\n",
       "0      01001  Alabama  Autauga        3368        3864        4038   \n",
       "1      01003  Alabama  Baldwin        9509       10240       11530   \n",
       "2      01005  Alabama  Barbour        2117        2246        2571   \n",
       "3      01007  Alabama     Bibb        1406        1496        1738   \n",
       "4      01009  Alabama   Blount        3367        3548        4009   \n",
       "\n",
       "  number_2007 number_2008 number_2009 number_2010  ...  \\\n",
       "0        4044        4112        4338        4560  ...   \n",
       "1       12050       12680       15300       16197  ...   \n",
       "2        2711        2979        3122        2945  ...   \n",
       "3        1849        1794        1888        1906  ...   \n",
       "4        4363        4833        5403        5841  ...   \n",
       "\n",
       "  Population_Estimate_2015 Population_Estimate_2016 LACCESS_POP10  \\\n",
       "0                   55,035                   55,416  18428.439685   \n",
       "1                  203,690                  208,563  35210.814078   \n",
       "2                   26,270                   25,965   5722.305602   \n",
       "3                   22,561                   22,643   1044.867327   \n",
       "4                   57,676                   57,704   1548.175559   \n",
       "\n",
       "   LACCESS_POP15  LACCESS_LOWI10  LACCESS_LOWI15  LACCESS_HHNV10  \\\n",
       "0   17496.693038     5344.427472     6543.676824      664.216487   \n",
       "1   30561.264430     9952.144027     9886.831137     1571.779915   \n",
       "2    6069.523628     3135.676086     2948.790251      406.142372   \n",
       "3     969.378841      491.449066      596.162829      275.060875   \n",
       "4    3724.428242      609.027708     1650.959482      705.466783   \n",
       "\n",
       "   LACCESS_HHNV15  PCT_OBESE_ADULTS13  RECFAC14  \n",
       "0      677.672769                34.1         5  \n",
       "1     1394.162766                27.4        25  \n",
       "2      425.144927                44.4         0  \n",
       "3      224.388125                40.3         1  \n",
       "4      719.931444                34.6         3  \n",
       "\n",
       "[5 rows x 42 columns]"
      ]
     },
     "execution_count": 25,
     "metadata": {},
     "output_type": "execute_result"
    }
   ],
   "source": [
    "df.head()"
   ]
  },
  {
   "cell_type": "code",
   "execution_count": 26,
   "metadata": {},
   "outputs": [
    {
     "data": {
      "text/plain": [
       "Index(['FIPS_Codes', 'State', 'County', 'number_2004', 'number_2005',\n",
       "       'number_2006', 'number_2007', 'number_2008', 'number_2009',\n",
       "       'number_2010', 'number_2011', 'number_2012', 'number_2013', 'FFR09',\n",
       "       'FFR14', 'PC_FFRSALES07', 'PC_FFRSALES12', 'PC_FSRSALES07',\n",
       "       'PC_FSRSALES12', 'GROC09', 'GROC14', 'SUPERC09', 'SUPERC14', 'CONVS09',\n",
       "       'CONVS14', 'SPECS09', 'SPECS09', '2010_Census_Population',\n",
       "       'Population_Estimate_2011', 'Population_Estimate_2012',\n",
       "       'Population_Estimate_2013', 'Population_Estimate_2014',\n",
       "       'Population_Estimate_2015', 'Population_Estimate_2016', 'LACCESS_POP10',\n",
       "       'LACCESS_POP15', 'LACCESS_LOWI10', 'LACCESS_LOWI15', 'LACCESS_HHNV10',\n",
       "       'LACCESS_HHNV15', 'PCT_OBESE_ADULTS13', 'RECFAC14'],\n",
       "      dtype='object')"
      ]
     },
     "execution_count": 26,
     "metadata": {},
     "output_type": "execute_result"
    }
   ],
   "source": [
    "df.columns"
   ]
  },
  {
   "cell_type": "code",
   "execution_count": 27,
   "metadata": {},
   "outputs": [],
   "source": [
    "df.drop(df[df['number_2004'] == 'No Data'].index, inplace=True)"
   ]
  },
  {
   "cell_type": "code",
   "execution_count": 28,
   "metadata": {},
   "outputs": [],
   "source": [
    "df[['2010_Census_Population','Population_Estimate_2011', 'Population_Estimate_2012',\n",
    "    'Population_Estimate_2013', 'Population_Estimate_2014',\n",
    "    'Population_Estimate_2015', 'Population_Estimate_2016']] = \\\n",
    "df[['2010_Census_Population','Population_Estimate_2011', 'Population_Estimate_2012',\n",
    "    'Population_Estimate_2013', 'Population_Estimate_2014',\n",
    "    'Population_Estimate_2015', 'Population_Estimate_2016']].stack().apply(lambda x: x.replace(',','')).unstack()"
   ]
  },
  {
   "cell_type": "code",
   "execution_count": 29,
   "metadata": {},
   "outputs": [],
   "source": [
    "df.dropna(inplace=True)\n",
    "df.reset_index(inplace=True)"
   ]
  },
  {
   "cell_type": "code",
   "execution_count": 30,
   "metadata": {},
   "outputs": [],
   "source": [
    "df[['number_2004', 'number_2005',\n",
    "    'number_2006', 'number_2007', 'number_2008', 'number_2009',\n",
    "    'number_2010', 'number_2011', 'number_2012', 'number_2013',\n",
    "    \n",
    "    '2010_Census_Population',\n",
    "    'Population_Estimate_2011', 'Population_Estimate_2012',\n",
    "    'Population_Estimate_2013', 'Population_Estimate_2014',\n",
    "    'Population_Estimate_2015', 'Population_Estimate_2016',\n",
    "    \n",
    "    'LACCESS_POP15', 'LACCESS_LOWI10', 'LACCESS_LOWI15', 'LACCESS_HHNV10',\n",
    "    'LACCESS_HHNV15']] = \\\n",
    "df[['number_2004', 'number_2005',\n",
    "    'number_2006', 'number_2007', 'number_2008', 'number_2009',\n",
    "    'number_2010', 'number_2011', 'number_2012', 'number_2013',\n",
    "    \n",
    "    '2010_Census_Population',\n",
    "    'Population_Estimate_2011', 'Population_Estimate_2012',\n",
    "    'Population_Estimate_2013', 'Population_Estimate_2014',\n",
    "    'Population_Estimate_2015', 'Population_Estimate_2016',\n",
    "    \n",
    "    'LACCESS_POP15', 'LACCESS_LOWI10', 'LACCESS_LOWI15', 'LACCESS_HHNV10',\n",
    "    'LACCESS_HHNV15']].astype('int')"
   ]
  },
  {
   "cell_type": "code",
   "execution_count": 31,
   "metadata": {
    "scrolled": false
   },
   "outputs": [
    {
     "data": {
      "text/plain": [
       "Index(['index', 'FIPS_Codes', 'State', 'County', 'number_2004', 'number_2005',\n",
       "       'number_2006', 'number_2007', 'number_2008', 'number_2009',\n",
       "       'number_2010', 'number_2011', 'number_2012', 'number_2013', 'FFR09',\n",
       "       'FFR14', 'PC_FFRSALES07', 'PC_FFRSALES12', 'PC_FSRSALES07',\n",
       "       'PC_FSRSALES12', 'GROC09', 'GROC14', 'SUPERC09', 'SUPERC14', 'CONVS09',\n",
       "       'CONVS14', 'SPECS09', 'SPECS09', '2010_Census_Population',\n",
       "       'Population_Estimate_2011', 'Population_Estimate_2012',\n",
       "       'Population_Estimate_2013', 'Population_Estimate_2014',\n",
       "       'Population_Estimate_2015', 'Population_Estimate_2016', 'LACCESS_POP10',\n",
       "       'LACCESS_POP15', 'LACCESS_LOWI10', 'LACCESS_LOWI15', 'LACCESS_HHNV10',\n",
       "       'LACCESS_HHNV15', 'PCT_OBESE_ADULTS13', 'RECFAC14'],\n",
       "      dtype='object')"
      ]
     },
     "execution_count": 31,
     "metadata": {},
     "output_type": "execute_result"
    }
   ],
   "source": [
    "df.columns"
   ]
  },
  {
   "cell_type": "markdown",
   "metadata": {},
   "source": [
    "## Define Food Desert"
   ]
  },
  {
   "cell_type": "code",
   "execution_count": 32,
   "metadata": {},
   "outputs": [],
   "source": [
    "df['food_desert'] = df['LACCESS_LOWI15'] / df['Population_Estimate_2015']"
   ]
  },
  {
   "cell_type": "markdown",
   "metadata": {},
   "source": [
    "## Define Food Swamps"
   ]
  },
  {
   "cell_type": "code",
   "execution_count": 33,
   "metadata": {},
   "outputs": [],
   "source": [
    "df['food_swamp'] = ((df['FFR14'] + df['CONVS14']) / (df['GROC14']))"
   ]
  },
  {
   "cell_type": "code",
   "execution_count": 34,
   "metadata": {},
   "outputs": [],
   "source": [
    "df.dropna(inplace=True)\n",
    "df.drop(df[df['food_swamp'] == np.inf].index, inplace=True)\n",
    "df.reset_index(inplace=True)"
   ]
  },
  {
   "cell_type": "markdown",
   "metadata": {},
   "source": [
    "## Define Obseity Prevalence"
   ]
  },
  {
   "cell_type": "code",
   "execution_count": 35,
   "metadata": {},
   "outputs": [],
   "source": [
    "### WHY IS THIS DIFFERENT??\n",
    "# df['obesity_prevalence'] = df['number_2013'] / df['Population_Estimate_2013']"
   ]
  },
  {
   "cell_type": "code",
   "execution_count": 36,
   "metadata": {},
   "outputs": [],
   "source": [
    "df['obesity_prevalence'] = df['PCT_OBESE_ADULTS13']"
   ]
  },
  {
   "cell_type": "markdown",
   "metadata": {},
   "source": [
    "## Preliminary Plots"
   ]
  },
  {
   "cell_type": "code",
   "execution_count": 37,
   "metadata": {},
   "outputs": [],
   "source": [
    "import matplotlib.pyplot as plt"
   ]
  },
  {
   "cell_type": "code",
   "execution_count": 38,
   "metadata": {
    "scrolled": true
   },
   "outputs": [
    {
     "data": {
      "image/png": "[encoded data removed]",
      "text/plain": [
       "<Figure size 432x288 with 1 Axes>"
      ]
     },
     "metadata": {
      "needs_background": "light"
     },
     "output_type": "display_data"
    }
   ],
   "source": [
    "plt.scatter(df['food_swamp'], df['obesity_prevalence']);"
   ]
  },
  {
   "cell_type": "code",
   "execution_count": 39,
   "metadata": {},
   "outputs": [
    {
     "data": {
      "image/png": "[encoded data removed]",
      "text/plain": [
       "<Figure size 432x288 with 1 Axes>"
      ]
     },
     "metadata": {
      "needs_background": "light"
     },
     "output_type": "display_data"
    }
   ],
   "source": [
    "plt.scatter(df['food_desert'], df['obesity_prevalence']);"
   ]
  },
  {
   "cell_type": "markdown",
   "metadata": {},
   "source": [
    "## Preliminary Model"
   ]
  },
  {
   "cell_type": "code",
   "execution_count": 40,
   "metadata": {},
   "outputs": [
    {
     "name": "stdout",
     "output_type": "stream",
     "text": [
      "Baseline: 31.01613643817649\n"
     ]
    }
   ],
   "source": [
    "print('Baseline:',df['obesity_prevalence'].mean())"
   ]
  },
  {
   "cell_type": "code",
   "execution_count": 41,
   "metadata": {},
   "outputs": [],
   "source": [
    "from sklearn.linear_model import LinearRegression\n",
    "from sklearn.preprocessing import StandardScaler\n",
    "from sklearn.model_selection import cross_val_score"
   ]
  },
  {
   "cell_type": "code",
   "execution_count": 42,
   "metadata": {},
   "outputs": [],
   "source": [
    "X = df[['food_swamp','food_desert']]\n",
    "ss = StandardScaler()\n",
    "X_sc = ss.fit_transform(X)\n",
    "y = df['obesity_prevalence']"
   ]
  },
  {
   "cell_type": "code",
   "execution_count": 43,
   "metadata": {},
   "outputs": [
    {
     "data": {
      "text/plain": [
       "0.012324455513829324"
      ]
     },
     "execution_count": 43,
     "metadata": {},
     "output_type": "execute_result"
    }
   ],
   "source": [
    "lr = LinearRegression()\n",
    "lr.fit(X_sc, y)\n",
    "lr.score(X_sc, y)"
   ]
  },
  {
   "cell_type": "code",
   "execution_count": 44,
   "metadata": {},
   "outputs": [
    {
     "name": "stdout",
     "output_type": "stream",
     "text": [
      "food_swamp 0.4548711268146642\n",
      "food_desert 0.2637056859060728\n"
     ]
    }
   ],
   "source": [
    "for i in range(len(X.columns)):\n",
    "    print(X.columns[i], lr.coef_[i])"
   ]
  },
  {
   "cell_type": "code",
   "execution_count": 45,
   "metadata": {},
   "outputs": [
    {
     "data": {
      "text/plain": [
       "0.0012037566885220396"
      ]
     },
     "execution_count": 45,
     "metadata": {},
     "output_type": "execute_result"
    }
   ],
   "source": [
    "cross_val_score(lr, X, y, cv=5, scoring='explained_variance').mean()"
   ]
  },
  {
   "cell_type": "code",
   "execution_count": null,
   "metadata": {},
   "outputs": [],
   "source": []
  }
 ],
 "metadata": {
  "kernelspec": {
   "display_name": "Python 3",
   "language": "python",
   "name": "python3"
  },
  "language_info": {
   "codemirror_mode": {
    "name": "ipython",
    "version": 3
   },
   "file_extension": ".py",
   "mimetype": "text/x-python",
   "name": "python",
   "nbconvert_exporter": "python",
   "pygments_lexer": "ipython3",
   "version": "3.6.8"
  }
 },
 "nbformat": 4,
 "nbformat_minor": 2
}
