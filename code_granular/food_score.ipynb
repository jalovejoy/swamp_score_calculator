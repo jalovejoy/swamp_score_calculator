{
 "cells": [
  {
   "cell_type": "markdown",
   "metadata": {},
   "source": [
    "## Importing Data & Libraries"
   ]
  },
  {
   "cell_type": "code",
   "execution_count": 1,
   "metadata": {},
   "outputs": [],
   "source": [
    "import pandas as pd\n",
    "import regex as re\n",
    "import os"
   ]
  },
  {
   "cell_type": "code",
   "execution_count": 2,
   "metadata": {},
   "outputs": [],
   "source": [
    "## Reads all csv's in granular folder\n",
    "df = pd.DataFrame()\n",
    "for file in os.listdir('../data/exports/granular/'):\n",
    "    filename = os.fsdecode(file)\n",
    "    if filename.endswith('.csv'):\n",
    "        df = pd.concat([df, pd.read_csv('../data/exports/granular/'+filename)])\n",
    "    else:\n",
    "        pass"
   ]
  },
  {
   "cell_type": "code",
   "execution_count": 3,
   "metadata": {},
   "outputs": [],
   "source": [
    "## Renames addresses where the country is in its full name rather than the 3 letter code\n",
    "df['end_address'] = [address.replace('United States', 'USA') for address in df['end_address']]\n",
    "df['end_address'] = [address.replace('Canada', 'CAN') for address in df['end_address']]"
   ]
  },
  {
   "cell_type": "code",
   "execution_count": 4,
   "metadata": {},
   "outputs": [],
   "source": [
    "## Creates a country column\n",
    "country = []\n",
    "for address in df['end_address']:\n",
    "    if 'USA' in address:\n",
    "        country.append('USA')\n",
    "    elif 'CAN' in address:\n",
    "        country.append('CAN')\n",
    "    else:\n",
    "        country.append('Unidentified')\n",
    "df['country'] = country"
   ]
  },
  {
   "cell_type": "code",
   "execution_count": 5,
   "metadata": {},
   "outputs": [],
   "source": [
    "## Drops row where the country isn't usa or CAN\n",
    "df.drop(df[((df['country'] != 'USA') & (df['country'] != 'CAN'))].index, inplace=True)\n",
    "df.reset_index(inplace=True, drop=True)"
   ]
  },
  {
   "cell_type": "code",
   "execution_count": 6,
   "metadata": {},
   "outputs": [],
   "source": [
    "## Creates a state column\n",
    "state = []\n",
    "for address in df['end_address']:\n",
    "    try:\n",
    "         state.append(re.search('(A[KLRZ]|C[AOT]|D[CE]|FL|GA|HI|I[ADLN]|K[SY]|LA|M[ADEINOST]|N[CDEHJMVY]|O[HKR]'\n",
    "                                '|P[AR]|RI|S[CD]|T[NX]|UT|V[AIT]|W[AIVY])', address).group(0))\n",
    "    except:\n",
    "        state.append('Unidentified')\n",
    "df['state'] = state"
   ]
  },
  {
   "cell_type": "code",
   "execution_count": 7,
   "metadata": {},
   "outputs": [],
   "source": [
    "## Resets duration and distance to floats\n",
    "df['duration'] = df['duration'].astype('float')\n",
    "df['distance'] = df['distance'].astype('float')"
   ]
  },
  {
   "cell_type": "markdown",
   "metadata": {},
   "source": [
    "## Calculate Swamp Score"
   ]
  },
  {
   "cell_type": "code",
   "execution_count": 8,
   "metadata": {
    "scrolled": true
   },
   "outputs": [],
   "source": [
    "def calculate_points(df):\n",
    "    for i, row in df.iterrows():\n",
    "        if row['duration'] < 600:\n",
    "            df.loc[i, 'proximity'] = 'close'\n",
    "            df.loc[i, 'points'] = 3\n",
    "        elif row['duration'] < 1200:\n",
    "            df.loc[i, 'proximity'] = 'medium'\n",
    "            df.loc[i, 'points'] = 2\n",
    "        elif row['duration'] < 3600:\n",
    "            df.loc[i, 'proximity'] = 'far'\n",
    "            df.loc[i, 'points'] = 1\n",
    "        else:\n",
    "            df.loc[i, 'proximity'] = 'over_hour'\n",
    "            df.loc[i, 'points'] = 0\n",
    "    return df"
   ]
  },
  {
   "cell_type": "code",
   "execution_count": 9,
   "metadata": {
    "scrolled": true
   },
   "outputs": [],
   "source": [
    "def calculate_gradient_points(df):\n",
    "    for i, row in df.iterrows():\n",
    "        if row['duration'] <= 3600:\n",
    "            df.loc[i, 'gradient_points'] = abs(row['duration'] - 3600)\n",
    "        else:\n",
    "            df.loc[i, 'gradient_points'] = 0\n",
    "    return df"
   ]
  },
  {
   "cell_type": "code",
   "execution_count": 10,
   "metadata": {},
   "outputs": [],
   "source": [
    "def calculate_swamp_score(df):\n",
    "    iter_address = set(df['start_address'])\n",
    "    swamp_df = pd.DataFrame()\n",
    "    for i, i_address in enumerate(iter_address):\n",
    "        swamp_df.loc[i,'start_address'] = i_address\n",
    "        \n",
    "        conv_store_points = df[df['start_address'] == i_address].groupby('label').sum()['points']['conv_store']\n",
    "        swamp_df.loc[i,'conv_store_points'] = conv_store_points\n",
    "        \n",
    "        fast_food_points = df[df['start_address'] == i_address].groupby('label').sum()['points']['fast_food_rest']\n",
    "        swamp_df.loc[i,'fast_food_points'] = fast_food_points\n",
    "        \n",
    "        groc_store_points = df[df['start_address'] == i_address].groupby('label').sum()['points']['groc_store']\n",
    "        swamp_df.loc[i,'groc_store_points'] = groc_store_points\n",
    "        \n",
    "        swamp_df.loc[i, 'swamp_score'] = (conv_store_points + fast_food_points) / groc_store_points\n",
    "        \n",
    "        \n",
    "        conv_store_grad_points = df[df['start_address'] == i_address].groupby('label')\\\n",
    "            .sum()['gradient_points']['conv_store']\n",
    "        swamp_df.loc[i,'conv_store_grad_points'] = conv_store_grad_points\n",
    "        fast_food_grad_points = df[df['start_address'] == i_address].groupby('label')\\\n",
    "            .sum()['gradient_points']['fast_food_rest']\n",
    "        swamp_df.loc[i,'fast_food_grad_points'] = fast_food_grad_points\n",
    "        groc_store_grad_points = df[df['start_address'] == i_address]\\\n",
    "            .groupby('label').sum()['gradient_points']['groc_store']\n",
    "        swamp_df.loc[i,'groc_store_grad_points'] = groc_store_points\n",
    "        swamp_df.loc[i, 'grad_swamp_score'] = (conv_store_grad_points + fast_food_grad_points)\\\n",
    "            / groc_store_grad_points\n",
    "        \n",
    "    return swamp_df"
   ]
  },
  {
   "cell_type": "code",
   "execution_count": 11,
   "metadata": {},
   "outputs": [],
   "source": [
    "df = calculate_points(df)"
   ]
  },
  {
   "cell_type": "code",
   "execution_count": 12,
   "metadata": {},
   "outputs": [],
   "source": [
    "df = calculate_gradient_points(df)"
   ]
  },
  {
   "cell_type": "code",
   "execution_count": 15,
   "metadata": {},
   "outputs": [
    {
     "data": {
      "text/html": [
       "<div>\n",
       "<style scoped>\n",
       "    .dataframe tbody tr th:only-of-type {\n",
       "        vertical-align: middle;\n",
       "    }\n",
       "\n",
       "    .dataframe tbody tr th {\n",
       "        vertical-align: top;\n",
       "    }\n",
       "\n",
       "    .dataframe thead th {\n",
       "        text-align: right;\n",
       "    }\n",
       "</style>\n",
       "<table border=\"1\" class=\"dataframe\">\n",
       "  <thead>\n",
       "    <tr style=\"text-align: right;\">\n",
       "      <th></th>\n",
       "      <th>start_address</th>\n",
       "      <th>swamp_score</th>\n",
       "      <th>grad_swamp_score</th>\n",
       "    </tr>\n",
       "  </thead>\n",
       "  <tbody>\n",
       "    <tr>\n",
       "      <th>0</th>\n",
       "      <td>803-Sheep-Farm-Rd-Weybridge-VT</td>\n",
       "      <td>1.388889</td>\n",
       "      <td>1.183050</td>\n",
       "    </tr>\n",
       "    <tr>\n",
       "      <th>1</th>\n",
       "      <td>410-Delaware-St-Denver-CO</td>\n",
       "      <td>3.689362</td>\n",
       "      <td>4.052134</td>\n",
       "    </tr>\n",
       "    <tr>\n",
       "      <th>2</th>\n",
       "      <td>351-California-St-Ste-450-San-Francisco-CA</td>\n",
       "      <td>3.838983</td>\n",
       "      <td>3.865289</td>\n",
       "    </tr>\n",
       "  </tbody>\n",
       "</table>\n",
       "</div>"
      ],
      "text/plain": [
       "                                start_address  swamp_score  grad_swamp_score\n",
       "0              803-Sheep-Farm-Rd-Weybridge-VT     1.388889          1.183050\n",
       "1                   410-Delaware-St-Denver-CO     3.689362          4.052134\n",
       "2  351-California-St-Ste-450-San-Francisco-CA     3.838983          3.865289"
      ]
     },
     "execution_count": 15,
     "metadata": {},
     "output_type": "execute_result"
    }
   ],
   "source": [
    "swamp_df = calculate_swamp_score(df)\n"
   ]
  },
  {
   "cell_type": "code",
   "execution_count": 18,
   "metadata": {},
   "outputs": [
    {
     "data": {
      "text/html": [
       "<div>\n",
       "<style scoped>\n",
       "    .dataframe tbody tr th:only-of-type {\n",
       "        vertical-align: middle;\n",
       "    }\n",
       "\n",
       "    .dataframe tbody tr th {\n",
       "        vertical-align: top;\n",
       "    }\n",
       "\n",
       "    .dataframe thead th {\n",
       "        text-align: right;\n",
       "    }\n",
       "</style>\n",
       "<table border=\"1\" class=\"dataframe\">\n",
       "  <thead>\n",
       "    <tr style=\"text-align: right;\">\n",
       "      <th></th>\n",
       "      <th>start_address</th>\n",
       "      <th>conv_store_points</th>\n",
       "      <th>fast_food_points</th>\n",
       "      <th>groc_store_points</th>\n",
       "      <th>swamp_score</th>\n",
       "      <th>conv_store_grad_points</th>\n",
       "      <th>fast_food_grad_points</th>\n",
       "      <th>groc_store_grad_points</th>\n",
       "      <th>grad_swamp_score</th>\n",
       "    </tr>\n",
       "  </thead>\n",
       "  <tbody>\n",
       "    <tr>\n",
       "      <th>0</th>\n",
       "      <td>803-Sheep-Farm-Rd-Weybridge-VT</td>\n",
       "      <td>6.0</td>\n",
       "      <td>69.0</td>\n",
       "      <td>54.0</td>\n",
       "      <td>1.388889</td>\n",
       "      <td>1485.0</td>\n",
       "      <td>60747.0</td>\n",
       "      <td>54.0</td>\n",
       "      <td>1.183050</td>\n",
       "    </tr>\n",
       "    <tr>\n",
       "      <th>1</th>\n",
       "      <td>410-Delaware-St-Denver-CO</td>\n",
       "      <td>210.0</td>\n",
       "      <td>1524.0</td>\n",
       "      <td>470.0</td>\n",
       "      <td>3.689362</td>\n",
       "      <td>283283.0</td>\n",
       "      <td>2316882.0</td>\n",
       "      <td>470.0</td>\n",
       "      <td>4.052134</td>\n",
       "    </tr>\n",
       "    <tr>\n",
       "      <th>2</th>\n",
       "      <td>351-California-St-Ste-450-San-Francisco-CA</td>\n",
       "      <td>103.0</td>\n",
       "      <td>1256.0</td>\n",
       "      <td>354.0</td>\n",
       "      <td>3.838983</td>\n",
       "      <td>167376.0</td>\n",
       "      <td>1714811.0</td>\n",
       "      <td>354.0</td>\n",
       "      <td>3.865289</td>\n",
       "    </tr>\n",
       "  </tbody>\n",
       "</table>\n",
       "</div>"
      ],
      "text/plain": [
       "                                start_address  conv_store_points  \\\n",
       "0              803-Sheep-Farm-Rd-Weybridge-VT                6.0   \n",
       "1                   410-Delaware-St-Denver-CO              210.0   \n",
       "2  351-California-St-Ste-450-San-Francisco-CA              103.0   \n",
       "\n",
       "   fast_food_points  groc_store_points  swamp_score  conv_store_grad_points  \\\n",
       "0              69.0               54.0     1.388889                  1485.0   \n",
       "1            1524.0              470.0     3.689362                283283.0   \n",
       "2            1256.0              354.0     3.838983                167376.0   \n",
       "\n",
       "   fast_food_grad_points  groc_store_grad_points  grad_swamp_score  \n",
       "0                60747.0                    54.0          1.183050  \n",
       "1              2316882.0                   470.0          4.052134  \n",
       "2              1714811.0                   354.0          3.865289  "
      ]
     },
     "execution_count": 18,
     "metadata": {},
     "output_type": "execute_result"
    }
   ],
   "source": [
    "swamp_df"
   ]
  },
  {
   "cell_type": "code",
   "execution_count": 17,
   "metadata": {},
   "outputs": [],
   "source": [
    "df.to_csv('../data/exports/granular_master.csv', index=False)"
   ]
  },
  {
   "cell_type": "code",
   "execution_count": null,
   "metadata": {},
   "outputs": [],
   "source": []
  }
 ],
 "metadata": {
  "kernelspec": {
   "display_name": "Python 3",
   "language": "python",
   "name": "python3"
  },
  "language_info": {
   "codemirror_mode": {
    "name": "ipython",
    "version": 3
   },
   "file_extension": ".py",
   "mimetype": "text/x-python",
   "name": "python",
   "nbconvert_exporter": "python",
   "pygments_lexer": "ipython3",
   "version": "3.6.8"
  }
 },
 "nbformat": 4,
 "nbformat_minor": 2
}
