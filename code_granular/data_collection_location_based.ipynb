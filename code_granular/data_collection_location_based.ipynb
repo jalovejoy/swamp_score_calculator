{
 "cells": [
  {
   "cell_type": "markdown",
   "metadata": {},
   "source": [
    "## Importing Libraries & Setting API"
   ]
  },
  {
   "cell_type": "code",
   "execution_count": 1,
   "metadata": {},
   "outputs": [],
   "source": [
    "import googlemaps\n",
    "import time\n",
    "from datetime import datetime\n",
    "import pandas as pd\n",
    "import regex as re"
   ]
  },
  {
   "cell_type": "code",
   "execution_count": 2,
   "metadata": {},
   "outputs": [],
   "source": [
    "## API key input\n",
    "gmaps = googlemaps.Client(key='KEY HERE')"
   ]
  },
  {
   "cell_type": "markdown",
   "metadata": {},
   "source": [
    "## Defining Functions to Identify Places\n",
    "\n",
    "**Identifies places** within a **given radius** of the latititude and longitude of a **given address** that match the name in a **given list of places.**"
   ]
  },
  {
   "cell_type": "code",
   "execution_count": 3,
   "metadata": {},
   "outputs": [],
   "source": [
    "## Creates dataframe for all places that match the name of an input LIST with a given radius of a given lat/lng\n",
    "def find_places_list(lat_long_string, radius, places_list, label):\n",
    "    df = pd.DataFrame()\n",
    "    for place in places_list:\n",
    "        print(f\"Finding {place} locations...\")\n",
    "        df = find_places(df, place, lat_long_string, radius, label)\n",
    "    return df"
   ]
  },
  {
   "cell_type": "code",
   "execution_count": 4,
   "metadata": {},
   "outputs": [],
   "source": [
    "## Finds all the places that match a SINGLE given name within a given radius of a given lat/lng\n",
    "def find_places(df, place, lat_long_string, radius, label):\n",
    "    data = pull_json(place, lat_long_string, radius, page_token=None) # Gets JSON data from Google Places API\n",
    "    \n",
    "    df = place_df(df, data, place, label) # Adds to dataframe\n",
    "    page_token = data.get('next_page_token', None) # Sets page_token if there were more than 20 places\n",
    "    time.sleep(2) # Rate limiting to keep API happy\n",
    "    \n",
    "    # Iterates over pages for a given location\n",
    "    while page_token != None: \n",
    "        data = pull_json(place, lat_long_string, radius, page_token)\n",
    "        df = place_df(df, data, place, label)\n",
    "        page_token = data.get('next_page_token', None)\n",
    "        time.sleep(2)\n",
    "    return df"
   ]
  },
  {
   "cell_type": "code",
   "execution_count": 5,
   "metadata": {},
   "outputs": [],
   "source": [
    "## Pulls json from Google Places API (limited to 20) for given place, lat/lng, radius\n",
    "def pull_json(place, lat_long_string, radius, page_token=None):\n",
    "    data = gmaps.places(query=place,\n",
    "                     location=lat_long_string,\n",
    "                     radius=radius,\n",
    "                     page_token=page_token,\n",
    "                     type=['restaurant','cafe', 'convenience_store', 'food', 'supermarket'])\n",
    "    return data"
   ]
  },
  {
   "cell_type": "code",
   "execution_count": 6,
   "metadata": {},
   "outputs": [],
   "source": [
    "## Adds places data to a dataframe\n",
    "def place_df(df, data, place, label):\n",
    "    for r in data['results']:\n",
    "        index = df.shape[0]\n",
    "        df.loc[index, 'business_name'] = r['name']\n",
    "        df.loc[index, 'target_name'] = place\n",
    "        df.loc[index, 'label'] = label\n",
    "        df.loc[index, 'business_types'] = \", \".join(r['types'])\n",
    "        df.loc[index, 'google_place_id'] = r['place_id']\n",
    "        try:\n",
    "            df.loc[index, 'rating'] = r['rating']\n",
    "            df.loc[index, 'user_ratings_total'] = r['user_ratings_total']\n",
    "        except:\n",
    "            df.loc[index, 'rating'] = 'no_rating'\n",
    "            df.loc[index, 'user_ratings_total'] = 'no_rating'\n",
    "        df.loc[index, 'end_address'] = r['formatted_address']\n",
    "        df.loc[index, 'latitude'] = r['geometry']['location']['lat']\n",
    "        df.loc[index, 'longitude'] = r['geometry']['location']['lng']\n",
    "        df.loc[index, 'pull_date'] = datetime.now().strftime('%Y-%m-%d')\n",
    "    return df"
   ]
  },
  {
   "cell_type": "markdown",
   "metadata": {},
   "source": [
    "## Running Fast Food Data Collection\n",
    "**Test Location:** 410 Delaware St, Denver CO"
   ]
  },
  {
   "cell_type": "code",
   "execution_count": 7,
   "metadata": {},
   "outputs": [],
   "source": [
    "## User input\n",
    "address = '49 South St, Natick MA'\n",
    "state = (re.search('(A[KLRZ]|C[AOT]|D[CE]|FL|GA|HI|I[ADLN]|K[SY]|LA|M[ADEINOST]|N[CDEHJMVY]|O[HKR]'\n",
    "                                '|P[AR]|RI|S[CD]|T[NX]|UT|V[AIT]|W[AIVY])', address).group(0))\n",
    "\n",
    "## Google Geocode API to convert address into latitude and longitude coordinates\n",
    "address_geo = gmaps.geocode(address)\n",
    "address_lat_lng = [address_geo[0]['geometry']['location']['lat'], address_geo[0]['geometry']['location']['lng']]\n",
    "\n",
    "## Setting search radius (as the crow flies) for locations\n",
    "search_radius = 3000"
   ]
  },
  {
   "cell_type": "code",
   "execution_count": 8,
   "metadata": {},
   "outputs": [],
   "source": [
    "### General fast food search\n",
    "fast_food_restaurants = ['fast food']"
   ]
  },
  {
   "cell_type": "code",
   "execution_count": 9,
   "metadata": {},
   "outputs": [],
   "source": [
    "### Specified list of fast food restaurants to look for\n",
    "fast_food_restaurants = [\"McDonald's\",'Burger King',\"Wendy's\",\"Subway\",\"Starbucks\",\"Dunkin Donuts\", \n",
    "    \"Pizza Hut\", \"KFC\", \"Domino's\", \"Baskin-Robbins\", \"Hunt Brothers Pizza\", \"Taco Bell\", \"Hardee's\",\n",
    "    \"Papa John's Pizza\", \"Dairy Queen\", \"Little Caesars\", \"Popeyes Louisiana Kitchen\", \"Jimmy John's\",\n",
    "    \"Jack in the Box\", \"Chick-fil-A\", \"Chipotle\", \"Panda Express\", \"Denny's\", \"IHOP\", \"Carl's Jr.\",\n",
    "    \"Five Guys\", \"Waffle House\", \"Krispy Kreme\" \"Long John Silver's\", \"Jersey Mike's Subs\",\n",
    "    \"Good Times Burgers & Frozen Custard\", \"Culver's\"]"
   ]
  },
  {
   "cell_type": "code",
   "execution_count": 10,
   "metadata": {},
   "outputs": [
    {
     "name": "stdout",
     "output_type": "stream",
     "text": [
      "Finding McDonald's locations...\n",
      "Finding Burger King locations...\n",
      "Finding Wendy's locations...\n",
      "Finding Subway locations...\n",
      "Finding Starbucks locations...\n",
      "Finding Dunkin Donuts locations...\n",
      "Finding Pizza Hut locations...\n",
      "Finding KFC locations...\n",
      "Finding Domino's locations...\n",
      "Finding Baskin-Robbins locations...\n",
      "Finding Hunt Brothers Pizza locations...\n",
      "Finding Taco Bell locations...\n",
      "Finding Hardee's locations...\n",
      "Finding Papa John's Pizza locations...\n",
      "Finding Dairy Queen locations...\n",
      "Finding Little Caesars locations...\n",
      "Finding Popeyes Louisiana Kitchen locations...\n",
      "Finding Jimmy John's locations...\n",
      "Finding Jack in the Box locations...\n",
      "Finding Chick-fil-A locations...\n",
      "Finding Chipotle locations...\n",
      "Finding Panda Express locations...\n",
      "Finding Denny's locations...\n",
      "Finding IHOP locations...\n",
      "Finding Carl's Jr. locations...\n",
      "Finding Five Guys locations...\n",
      "Finding Waffle House locations...\n",
      "Finding Krispy KremeLong John Silver's locations...\n",
      "Finding Jersey Mike's Subs locations...\n",
      "Finding Good Times Burgers & Frozen Custard locations...\n",
      "Finding Culver's locations...\n"
     ]
    }
   ],
   "source": [
    "## Running the search\n",
    "fast_food_locations = find_places_list(address_lat_lng, search_radius, fast_food_restaurants, label=\"fast_food_rest\")"
   ]
  },
  {
   "cell_type": "markdown",
   "metadata": {},
   "source": [
    "## Running Convenience Store Data Collection"
   ]
  },
  {
   "cell_type": "code",
   "execution_count": 11,
   "metadata": {},
   "outputs": [],
   "source": [
    "# List of convenience stores to look for\n",
    "conv_store_list = [\"7-eleven\", \"Kum & Go\", \"Casey’s General Store\", \"Cumberland Farms\", \"Express Mart\",\n",
    "    \"Stripes Convenience\", \"Twice Daily\", \"Thorntons\", \"Circle K\"]"
   ]
  },
  {
   "cell_type": "code",
   "execution_count": 12,
   "metadata": {},
   "outputs": [
    {
     "name": "stdout",
     "output_type": "stream",
     "text": [
      "Finding 7-eleven locations...\n",
      "Finding Kum & Go locations...\n",
      "Finding Casey’s General Store locations...\n",
      "Finding Cumberland Farms locations...\n",
      "Finding Express Mart locations...\n",
      "Finding Stripes Convenience locations...\n",
      "Finding Twice Daily locations...\n",
      "Finding Thorntons locations...\n",
      "Finding Circle K locations...\n"
     ]
    }
   ],
   "source": [
    "## Running the search\n",
    "conv_store_locations = find_places_list(address_lat_lng, search_radius, conv_store_list, label=\"conv_store\")"
   ]
  },
  {
   "cell_type": "markdown",
   "metadata": {},
   "source": [
    "## Running Grocery Store Data Collection"
   ]
  },
  {
   "cell_type": "code",
   "execution_count": 13,
   "metadata": {},
   "outputs": [],
   "source": [
    "# List of grocery stores to look for\n",
    "groc_store = [\"Trader Joe's\", \"Safeway\", \"Natural Grocers\", \"King Soopers\", \"Whole Foods\", \"Hannaford\",\n",
    "    \"Stop & Shop\", \"Sprouts Farmers Market\", \"Shaw's\", \"Price Chopper\", \"Wegmans\", \"Pete’s Fresh Market\",\n",
    "    \"Kroger\", \"Albertsons\", \"Publix\", \"Bojangles' Famous Chicken 'n Biscuit\", \"Arby's\", \"Krystal\",\n",
    "    \"Mother Earth Natural Foods\", \"The Fresh Market\"]"
   ]
  },
  {
   "cell_type": "code",
   "execution_count": 14,
   "metadata": {},
   "outputs": [
    {
     "name": "stdout",
     "output_type": "stream",
     "text": [
      "Finding Trader Joe's locations...\n",
      "Finding Safeway locations...\n",
      "Finding Natural Grocers locations...\n",
      "Finding King Soopers locations...\n",
      "Finding Whole Foods locations...\n",
      "Finding Hannaford locations...\n",
      "Finding Stop & Shop locations...\n",
      "Finding Sprouts Farmers Market locations...\n",
      "Finding Shaw's locations...\n",
      "Finding Price Chopper locations...\n",
      "Finding Wegmans locations...\n",
      "Finding Pete’s Fresh Market locations...\n",
      "Finding Kroger locations...\n",
      "Finding Albertsons locations...\n",
      "Finding Publix locations...\n",
      "Finding Bojangles' Famous Chicken 'n Biscuit locations...\n",
      "Finding Arby's locations...\n",
      "Finding Krystal locations...\n",
      "Finding Mother Earth Natural Foods locations...\n",
      "Finding The Fresh Market locations...\n"
     ]
    }
   ],
   "source": [
    "## Running the search\n",
    "groc_store_locations = find_places_list(address_lat_lng, search_radius, groc_store, label=\"groc_store\")"
   ]
  },
  {
   "cell_type": "markdown",
   "metadata": {},
   "source": [
    "## Combining Datasets"
   ]
  },
  {
   "cell_type": "code",
   "execution_count": 15,
   "metadata": {},
   "outputs": [],
   "source": [
    "df = pd.concat([fast_food_locations, conv_store_locations, groc_store_locations])"
   ]
  },
  {
   "cell_type": "markdown",
   "metadata": {},
   "source": [
    "## Calculating Distance from Starting Address"
   ]
  },
  {
   "cell_type": "code",
   "execution_count": 16,
   "metadata": {},
   "outputs": [],
   "source": [
    "def google_distances(start_address, end_addresses, df):\n",
    "    \n",
    "    ## Filling in rows using enumerate as the index, so it's important to reset index\n",
    "    df.reset_index(inplace=True, drop=True)\n",
    "    \n",
    "    ## Iterating through each of the addresses\n",
    "    for i, end_address in enumerate(end_addresses):\n",
    "        try:\n",
    "            distance_dict = gmaps.distance_matrix(origins=start_address, destinations = end_address)\n",
    "            df.loc[i, 'duration'] = distance_dict['rows'][0]['elements'][0]['duration']['value']\n",
    "            df.loc[i,'distance'] = distance_dict['rows'][0]['elements'][0]['distance']['value']\n",
    "            df.loc[i,'start_address'] = start_address.replace(\",\",\"\").replace(\" \",\"-\")\n",
    "        \n",
    "        ## Redundancy to reduce API errors... probably useless\n",
    "        except:\n",
    "            try:\n",
    "                print(f\"Distance retrieval failed for {end_address}. Trying again...\")\n",
    "                distance_dict = gmaps.distance_matrix(origins=start_address, destinations = end_address)\n",
    "                df.loc[i, 'duration'] = distance_dict['rows'][0]['elements'][0]['duration']['value']\n",
    "                df.loc[i,'distance'] = distance_dict['rows'][0]['elements'][0]['distance']['value']\n",
    "                df.loc[i,'start_address'] = start_address.replace(\",\",\"\").replace(\" \",\"-\")\n",
    "            \n",
    "            ## Creating alert in dataframe if distance failed\n",
    "            except:\n",
    "                print(f\"Distance retrieval failed for {end_address}...\")\n",
    "                df.loc[i, 'duration'] = \"Failed\"\n",
    "                df.loc[i, 'distance'] = \"Failed\"\n",
    "                df.loc[i,'start_address'] = start_address.replace(\",\",\"\").replace(\" \",\"-\")\n",
    "          \n",
    "        ## Signposting progress\n",
    "        if i % 100 == 0:\n",
    "            print(f\"Completed distances for {i} of {len(end_addresses)}\")\n",
    "        time.sleep(0.5)\n",
    "\n",
    "    return df"
   ]
  },
  {
   "cell_type": "code",
   "execution_count": 17,
   "metadata": {},
   "outputs": [
    {
     "name": "stdout",
     "output_type": "stream",
     "text": [
      "Completed distances for 0 of 1889\n",
      "Completed distances for 100 of 1889\n",
      "Completed distances for 200 of 1889\n",
      "Completed distances for 300 of 1889\n",
      "Completed distances for 400 of 1889\n",
      "Completed distances for 500 of 1889\n",
      "Completed distances for 600 of 1889\n",
      "Completed distances for 700 of 1889\n",
      "Completed distances for 800 of 1889\n",
      "Completed distances for 900 of 1889\n",
      "Completed distances for 1000 of 1889\n",
      "Completed distances for 1100 of 1889\n",
      "Completed distances for 1200 of 1889\n",
      "Completed distances for 1300 of 1889\n",
      "Completed distances for 1400 of 1889\n",
      "Completed distances for 1500 of 1889\n",
      "Completed distances for 1600 of 1889\n",
      "Completed distances for 1700 of 1889\n",
      "Completed distances for 1800 of 1889\n"
     ]
    }
   ],
   "source": [
    "df = google_distances(address, df['end_address'], df)"
   ]
  },
  {
   "cell_type": "markdown",
   "metadata": {},
   "source": [
    "## Exporting Data"
   ]
  },
  {
   "cell_type": "code",
   "execution_count": 18,
   "metadata": {
    "scrolled": false
   },
   "outputs": [],
   "source": [
    "## Exporting data to CSV\n",
    "csv_name = f\"../data/exports/granular/{datetime.now().strftime('%Y-%m-%d-%H%M%S')}_{state}.csv\"\n",
    "df.to_csv(csv_name, index=False)"
   ]
  },
  {
   "cell_type": "code",
   "execution_count": null,
   "metadata": {},
   "outputs": [],
   "source": []
  }
 ],
 "metadata": {
  "kernelspec": {
   "display_name": "Python 3",
   "language": "python",
   "name": "python3"
  },
  "language_info": {
   "codemirror_mode": {
    "name": "ipython",
    "version": 3
   },
   "file_extension": ".py",
   "mimetype": "text/x-python",
   "name": "python",
   "nbconvert_exporter": "python",
   "pygments_lexer": "ipython3",
   "version": "3.6.8"
  }
 },
 "nbformat": 4,
 "nbformat_minor": 2
}
